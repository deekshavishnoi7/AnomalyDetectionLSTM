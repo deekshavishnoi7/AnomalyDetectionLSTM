{
  "cells": [
    {
      "cell_type": "code",
      "execution_count": 1,
      "id": "730b4cfa",
      "metadata": {
        "id": "730b4cfa"
      },
      "outputs": [],
      "source": [
        "import numpy as np\n",
        "import pandas as pd\n",
        "import matplotlib.pyplot as plt\n",
        "from sklearn.preprocessing import RobustScaler\n",
        "from matplotlib import figure as fig"
      ]
    },
    {
      "cell_type": "code",
      "source": [
        "from google.colab import files\n",
        "uploaded = files.upload()"
      ],
      "metadata": {
        "colab": {
          "base_uri": "https://localhost:8080/",
          "height": 73
        },
        "id": "W8SbHEMqcSMV",
        "outputId": "bbc61c95-48cf-4422-a976-996ccf51e9d6"
      },
      "id": "W8SbHEMqcSMV",
      "execution_count": 2,
      "outputs": [
        {
          "output_type": "display_data",
          "data": {
            "text/plain": [
              "<IPython.core.display.HTML object>"
            ],
            "text/html": [
              "\n",
              "     <input type=\"file\" id=\"files-ad71ed8c-f0ee-49f5-be66-41fc90c54b08\" name=\"files[]\" multiple disabled\n",
              "        style=\"border:none\" />\n",
              "     <output id=\"result-ad71ed8c-f0ee-49f5-be66-41fc90c54b08\">\n",
              "      Upload widget is only available when the cell has been executed in the\n",
              "      current browser session. Please rerun this cell to enable.\n",
              "      </output>\n",
              "      <script>// Copyright 2017 Google LLC\n",
              "//\n",
              "// Licensed under the Apache License, Version 2.0 (the \"License\");\n",
              "// you may not use this file except in compliance with the License.\n",
              "// You may obtain a copy of the License at\n",
              "//\n",
              "//      http://www.apache.org/licenses/LICENSE-2.0\n",
              "//\n",
              "// Unless required by applicable law or agreed to in writing, software\n",
              "// distributed under the License is distributed on an \"AS IS\" BASIS,\n",
              "// WITHOUT WARRANTIES OR CONDITIONS OF ANY KIND, either express or implied.\n",
              "// See the License for the specific language governing permissions and\n",
              "// limitations under the License.\n",
              "\n",
              "/**\n",
              " * @fileoverview Helpers for google.colab Python module.\n",
              " */\n",
              "(function(scope) {\n",
              "function span(text, styleAttributes = {}) {\n",
              "  const element = document.createElement('span');\n",
              "  element.textContent = text;\n",
              "  for (const key of Object.keys(styleAttributes)) {\n",
              "    element.style[key] = styleAttributes[key];\n",
              "  }\n",
              "  return element;\n",
              "}\n",
              "\n",
              "// Max number of bytes which will be uploaded at a time.\n",
              "const MAX_PAYLOAD_SIZE = 100 * 1024;\n",
              "\n",
              "function _uploadFiles(inputId, outputId) {\n",
              "  const steps = uploadFilesStep(inputId, outputId);\n",
              "  const outputElement = document.getElementById(outputId);\n",
              "  // Cache steps on the outputElement to make it available for the next call\n",
              "  // to uploadFilesContinue from Python.\n",
              "  outputElement.steps = steps;\n",
              "\n",
              "  return _uploadFilesContinue(outputId);\n",
              "}\n",
              "\n",
              "// This is roughly an async generator (not supported in the browser yet),\n",
              "// where there are multiple asynchronous steps and the Python side is going\n",
              "// to poll for completion of each step.\n",
              "// This uses a Promise to block the python side on completion of each step,\n",
              "// then passes the result of the previous step as the input to the next step.\n",
              "function _uploadFilesContinue(outputId) {\n",
              "  const outputElement = document.getElementById(outputId);\n",
              "  const steps = outputElement.steps;\n",
              "\n",
              "  const next = steps.next(outputElement.lastPromiseValue);\n",
              "  return Promise.resolve(next.value.promise).then((value) => {\n",
              "    // Cache the last promise value to make it available to the next\n",
              "    // step of the generator.\n",
              "    outputElement.lastPromiseValue = value;\n",
              "    return next.value.response;\n",
              "  });\n",
              "}\n",
              "\n",
              "/**\n",
              " * Generator function which is called between each async step of the upload\n",
              " * process.\n",
              " * @param {string} inputId Element ID of the input file picker element.\n",
              " * @param {string} outputId Element ID of the output display.\n",
              " * @return {!Iterable<!Object>} Iterable of next steps.\n",
              " */\n",
              "function* uploadFilesStep(inputId, outputId) {\n",
              "  const inputElement = document.getElementById(inputId);\n",
              "  inputElement.disabled = false;\n",
              "\n",
              "  const outputElement = document.getElementById(outputId);\n",
              "  outputElement.innerHTML = '';\n",
              "\n",
              "  const pickedPromise = new Promise((resolve) => {\n",
              "    inputElement.addEventListener('change', (e) => {\n",
              "      resolve(e.target.files);\n",
              "    });\n",
              "  });\n",
              "\n",
              "  const cancel = document.createElement('button');\n",
              "  inputElement.parentElement.appendChild(cancel);\n",
              "  cancel.textContent = 'Cancel upload';\n",
              "  const cancelPromise = new Promise((resolve) => {\n",
              "    cancel.onclick = () => {\n",
              "      resolve(null);\n",
              "    };\n",
              "  });\n",
              "\n",
              "  // Wait for the user to pick the files.\n",
              "  const files = yield {\n",
              "    promise: Promise.race([pickedPromise, cancelPromise]),\n",
              "    response: {\n",
              "      action: 'starting',\n",
              "    }\n",
              "  };\n",
              "\n",
              "  cancel.remove();\n",
              "\n",
              "  // Disable the input element since further picks are not allowed.\n",
              "  inputElement.disabled = true;\n",
              "\n",
              "  if (!files) {\n",
              "    return {\n",
              "      response: {\n",
              "        action: 'complete',\n",
              "      }\n",
              "    };\n",
              "  }\n",
              "\n",
              "  for (const file of files) {\n",
              "    const li = document.createElement('li');\n",
              "    li.append(span(file.name, {fontWeight: 'bold'}));\n",
              "    li.append(span(\n",
              "        `(${file.type || 'n/a'}) - ${file.size} bytes, ` +\n",
              "        `last modified: ${\n",
              "            file.lastModifiedDate ? file.lastModifiedDate.toLocaleDateString() :\n",
              "                                    'n/a'} - `));\n",
              "    const percent = span('0% done');\n",
              "    li.appendChild(percent);\n",
              "\n",
              "    outputElement.appendChild(li);\n",
              "\n",
              "    const fileDataPromise = new Promise((resolve) => {\n",
              "      const reader = new FileReader();\n",
              "      reader.onload = (e) => {\n",
              "        resolve(e.target.result);\n",
              "      };\n",
              "      reader.readAsArrayBuffer(file);\n",
              "    });\n",
              "    // Wait for the data to be ready.\n",
              "    let fileData = yield {\n",
              "      promise: fileDataPromise,\n",
              "      response: {\n",
              "        action: 'continue',\n",
              "      }\n",
              "    };\n",
              "\n",
              "    // Use a chunked sending to avoid message size limits. See b/62115660.\n",
              "    let position = 0;\n",
              "    do {\n",
              "      const length = Math.min(fileData.byteLength - position, MAX_PAYLOAD_SIZE);\n",
              "      const chunk = new Uint8Array(fileData, position, length);\n",
              "      position += length;\n",
              "\n",
              "      const base64 = btoa(String.fromCharCode.apply(null, chunk));\n",
              "      yield {\n",
              "        response: {\n",
              "          action: 'append',\n",
              "          file: file.name,\n",
              "          data: base64,\n",
              "        },\n",
              "      };\n",
              "\n",
              "      let percentDone = fileData.byteLength === 0 ?\n",
              "          100 :\n",
              "          Math.round((position / fileData.byteLength) * 100);\n",
              "      percent.textContent = `${percentDone}% done`;\n",
              "\n",
              "    } while (position < fileData.byteLength);\n",
              "  }\n",
              "\n",
              "  // All done.\n",
              "  yield {\n",
              "    response: {\n",
              "      action: 'complete',\n",
              "    }\n",
              "  };\n",
              "}\n",
              "\n",
              "scope.google = scope.google || {};\n",
              "scope.google.colab = scope.google.colab || {};\n",
              "scope.google.colab._files = {\n",
              "  _uploadFiles,\n",
              "  _uploadFilesContinue,\n",
              "};\n",
              "})(self);\n",
              "</script> "
            ]
          },
          "metadata": {}
        },
        {
          "output_type": "stream",
          "name": "stdout",
          "text": [
            "Saving Henry_Hub_Natural_Gas_Spot_Price.csv to Henry_Hub_Natural_Gas_Spot_Price.csv\n"
          ]
        }
      ]
    },
    {
      "cell_type": "code",
      "execution_count": 38,
      "id": "5516d980",
      "metadata": {
        "colab": {
          "base_uri": "https://localhost:8080/",
          "height": 455
        },
        "id": "5516d980",
        "outputId": "0b03e16b-682a-4a66-842c-dd15a7aa64b3"
      },
      "outputs": [
        {
          "output_type": "execute_result",
          "data": {
            "text/plain": [
              "            price\n",
              "Date             \n",
              "1997-01-07   3.82\n",
              "1997-01-08   3.80\n",
              "1997-01-09   3.61\n",
              "1997-01-10   3.92\n",
              "1997-01-13   4.00\n",
              "...           ...\n",
              "2022-12-06   4.58\n",
              "2022-12-07   4.49\n",
              "2022-12-08   4.79\n",
              "2022-12-09   4.98\n",
              "2022-12-12   6.73\n",
              "\n",
              "[6518 rows x 1 columns]"
            ],
            "text/html": [
              "\n",
              "  <div id=\"df-fb6f71c2-ae36-40e6-a4c0-c458f9c73c3c\">\n",
              "    <div class=\"colab-df-container\">\n",
              "      <div>\n",
              "<style scoped>\n",
              "    .dataframe tbody tr th:only-of-type {\n",
              "        vertical-align: middle;\n",
              "    }\n",
              "\n",
              "    .dataframe tbody tr th {\n",
              "        vertical-align: top;\n",
              "    }\n",
              "\n",
              "    .dataframe thead th {\n",
              "        text-align: right;\n",
              "    }\n",
              "</style>\n",
              "<table border=\"1\" class=\"dataframe\">\n",
              "  <thead>\n",
              "    <tr style=\"text-align: right;\">\n",
              "      <th></th>\n",
              "      <th>price</th>\n",
              "    </tr>\n",
              "    <tr>\n",
              "      <th>Date</th>\n",
              "      <th></th>\n",
              "    </tr>\n",
              "  </thead>\n",
              "  <tbody>\n",
              "    <tr>\n",
              "      <th>1997-01-07</th>\n",
              "      <td>3.82</td>\n",
              "    </tr>\n",
              "    <tr>\n",
              "      <th>1997-01-08</th>\n",
              "      <td>3.80</td>\n",
              "    </tr>\n",
              "    <tr>\n",
              "      <th>1997-01-09</th>\n",
              "      <td>3.61</td>\n",
              "    </tr>\n",
              "    <tr>\n",
              "      <th>1997-01-10</th>\n",
              "      <td>3.92</td>\n",
              "    </tr>\n",
              "    <tr>\n",
              "      <th>1997-01-13</th>\n",
              "      <td>4.00</td>\n",
              "    </tr>\n",
              "    <tr>\n",
              "      <th>...</th>\n",
              "      <td>...</td>\n",
              "    </tr>\n",
              "    <tr>\n",
              "      <th>2022-12-06</th>\n",
              "      <td>4.58</td>\n",
              "    </tr>\n",
              "    <tr>\n",
              "      <th>2022-12-07</th>\n",
              "      <td>4.49</td>\n",
              "    </tr>\n",
              "    <tr>\n",
              "      <th>2022-12-08</th>\n",
              "      <td>4.79</td>\n",
              "    </tr>\n",
              "    <tr>\n",
              "      <th>2022-12-09</th>\n",
              "      <td>4.98</td>\n",
              "    </tr>\n",
              "    <tr>\n",
              "      <th>2022-12-12</th>\n",
              "      <td>6.73</td>\n",
              "    </tr>\n",
              "  </tbody>\n",
              "</table>\n",
              "<p>6518 rows × 1 columns</p>\n",
              "</div>\n",
              "      <button class=\"colab-df-convert\" onclick=\"convertToInteractive('df-fb6f71c2-ae36-40e6-a4c0-c458f9c73c3c')\"\n",
              "              title=\"Convert this dataframe to an interactive table.\"\n",
              "              style=\"display:none;\">\n",
              "        \n",
              "  <svg xmlns=\"http://www.w3.org/2000/svg\" height=\"24px\"viewBox=\"0 0 24 24\"\n",
              "       width=\"24px\">\n",
              "    <path d=\"M0 0h24v24H0V0z\" fill=\"none\"/>\n",
              "    <path d=\"M18.56 5.44l.94 2.06.94-2.06 2.06-.94-2.06-.94-.94-2.06-.94 2.06-2.06.94zm-11 1L8.5 8.5l.94-2.06 2.06-.94-2.06-.94L8.5 2.5l-.94 2.06-2.06.94zm10 10l.94 2.06.94-2.06 2.06-.94-2.06-.94-.94-2.06-.94 2.06-2.06.94z\"/><path d=\"M17.41 7.96l-1.37-1.37c-.4-.4-.92-.59-1.43-.59-.52 0-1.04.2-1.43.59L10.3 9.45l-7.72 7.72c-.78.78-.78 2.05 0 2.83L4 21.41c.39.39.9.59 1.41.59.51 0 1.02-.2 1.41-.59l7.78-7.78 2.81-2.81c.8-.78.8-2.07 0-2.86zM5.41 20L4 18.59l7.72-7.72 1.47 1.35L5.41 20z\"/>\n",
              "  </svg>\n",
              "      </button>\n",
              "      \n",
              "  <style>\n",
              "    .colab-df-container {\n",
              "      display:flex;\n",
              "      flex-wrap:wrap;\n",
              "      gap: 12px;\n",
              "    }\n",
              "\n",
              "    .colab-df-convert {\n",
              "      background-color: #E8F0FE;\n",
              "      border: none;\n",
              "      border-radius: 50%;\n",
              "      cursor: pointer;\n",
              "      display: none;\n",
              "      fill: #1967D2;\n",
              "      height: 32px;\n",
              "      padding: 0 0 0 0;\n",
              "      width: 32px;\n",
              "    }\n",
              "\n",
              "    .colab-df-convert:hover {\n",
              "      background-color: #E2EBFA;\n",
              "      box-shadow: 0px 1px 2px rgba(60, 64, 67, 0.3), 0px 1px 3px 1px rgba(60, 64, 67, 0.15);\n",
              "      fill: #174EA6;\n",
              "    }\n",
              "\n",
              "    [theme=dark] .colab-df-convert {\n",
              "      background-color: #3B4455;\n",
              "      fill: #D2E3FC;\n",
              "    }\n",
              "\n",
              "    [theme=dark] .colab-df-convert:hover {\n",
              "      background-color: #434B5C;\n",
              "      box-shadow: 0px 1px 3px 1px rgba(0, 0, 0, 0.15);\n",
              "      filter: drop-shadow(0px 1px 2px rgba(0, 0, 0, 0.3));\n",
              "      fill: #FFFFFF;\n",
              "    }\n",
              "  </style>\n",
              "\n",
              "      <script>\n",
              "        const buttonEl =\n",
              "          document.querySelector('#df-fb6f71c2-ae36-40e6-a4c0-c458f9c73c3c button.colab-df-convert');\n",
              "        buttonEl.style.display =\n",
              "          google.colab.kernel.accessAllowed ? 'block' : 'none';\n",
              "\n",
              "        async function convertToInteractive(key) {\n",
              "          const element = document.querySelector('#df-fb6f71c2-ae36-40e6-a4c0-c458f9c73c3c');\n",
              "          const dataTable =\n",
              "            await google.colab.kernel.invokeFunction('convertToInteractive',\n",
              "                                                     [key], {});\n",
              "          if (!dataTable) return;\n",
              "\n",
              "          const docLinkHtml = 'Like what you see? Visit the ' +\n",
              "            '<a target=\"_blank\" href=https://colab.research.google.com/notebooks/data_table.ipynb>data table notebook</a>'\n",
              "            + ' to learn more about interactive tables.';\n",
              "          element.innerHTML = '';\n",
              "          dataTable['output_type'] = 'display_data';\n",
              "          await google.colab.output.renderOutput(dataTable, element);\n",
              "          const docLink = document.createElement('div');\n",
              "          docLink.innerHTML = docLinkHtml;\n",
              "          element.appendChild(docLink);\n",
              "        }\n",
              "      </script>\n",
              "    </div>\n",
              "  </div>\n",
              "  "
            ]
          },
          "metadata": {},
          "execution_count": 38
        }
      ],
      "source": [
        "import io\n",
        "df = pd.read_csv(io.BytesIO(uploaded['Henry_Hub_Natural_Gas_Spot_Price.csv']))\n",
        "df['Date'] = pd.to_datetime(df['Date'])\n",
        "\n",
        "spot_price = df\n",
        "spot_price = spot_price.set_index(spot_price.columns[0])\n",
        "spot_price = spot_price.sort_values(by=['Date'])\n",
        "spot_price"
      ]
    },
    {
      "cell_type": "code",
      "execution_count": 39,
      "id": "915d1e67",
      "metadata": {
        "colab": {
          "base_uri": "https://localhost:8080/",
          "height": 352
        },
        "id": "915d1e67",
        "outputId": "fcbc4c5f-82ff-4458-ae0e-66c38244d191"
      },
      "outputs": [
        {
          "output_type": "stream",
          "name": "stdout",
          "text": [
            "Historical Spot price visualization:\n"
          ]
        },
        {
          "output_type": "display_data",
          "data": {
            "text/plain": [
              "<Figure size 1080x360 with 1 Axes>"
            ],
            "image/png": "[encoded data removed]"
          },
          "metadata": {
            "needs_background": "light"
          }
        }
      ],
      "source": [
        "print('Historical Spot price visualization:')\n",
        "spot_price.plot(figsize = (15,5), title = 'Henry Hub Spot Price (Daily frequency)')\n",
        "plt.xlabel ('Date_time')\n",
        "plt.ylabel ('Price ($/Mbtu)')\n",
        "plt.show()"
      ]
    },
    {
      "cell_type": "code",
      "execution_count": 40,
      "id": "61d68eb4",
      "metadata": {
        "colab": {
          "base_uri": "https://localhost:8080/"
        },
        "id": "61d68eb4",
        "outputId": "78b87d92-d0ba-4d9a-ce60-167b869076c7"
      },
      "outputs": [
        {
          "output_type": "stream",
          "name": "stdout",
          "text": [
            "Missing values: 1\n",
            "....Dropped Missing value row....\n",
            "\n",
            "Rechecking Missing values: price    0\n",
            "dtype: int64\n"
          ]
        }
      ],
      "source": [
        "print('Missing values:', spot_price.isnull().sum().sum()) \n",
        "\n",
        "\n",
        "# checking missing values\n",
        "spot_price = spot_price.dropna() \n",
        "\n",
        "\n",
        "# dropping missing valies\n",
        "print('....Dropped Missing value row....\\n')\n",
        "\n",
        "# checking missing values\n",
        "print('Rechecking Missing values:', spot_price.isnull().sum()) \n"
      ]
    },
    {
      "cell_type": "code",
      "execution_count": 41,
      "id": "e6cb5300",
      "metadata": {
        "colab": {
          "base_uri": "https://localhost:8080/",
          "height": 80
        },
        "id": "e6cb5300",
        "outputId": "7d2f3113-802a-480e-f172-af8209189840"
      },
      "outputs": [
        {
          "output_type": "execute_result",
          "data": {
            "text/plain": [
              "        count      mean       std   min   25%  50%   75%    max\n",
              "price  6517.0  4.236109  2.198055  1.05  2.69  3.6  5.33  23.86"
            ],
            "text/html": [
              "\n",
              "  <div id=\"df-e8b972c9-c810-441c-bd29-493b1ff04900\">\n",
              "    <div class=\"colab-df-container\">\n",
              "      <div>\n",
              "<style scoped>\n",
              "    .dataframe tbody tr th:only-of-type {\n",
              "        vertical-align: middle;\n",
              "    }\n",
              "\n",
              "    .dataframe tbody tr th {\n",
              "        vertical-align: top;\n",
              "    }\n",
              "\n",
              "    .dataframe thead th {\n",
              "        text-align: right;\n",
              "    }\n",
              "</style>\n",
              "<table border=\"1\" class=\"dataframe\">\n",
              "  <thead>\n",
              "    <tr style=\"text-align: right;\">\n",
              "      <th></th>\n",
              "      <th>count</th>\n",
              "      <th>mean</th>\n",
              "      <th>std</th>\n",
              "      <th>min</th>\n",
              "      <th>25%</th>\n",
              "      <th>50%</th>\n",
              "      <th>75%</th>\n",
              "      <th>max</th>\n",
              "    </tr>\n",
              "  </thead>\n",
              "  <tbody>\n",
              "    <tr>\n",
              "      <th>price</th>\n",
              "      <td>6517.0</td>\n",
              "      <td>4.236109</td>\n",
              "      <td>2.198055</td>\n",
              "      <td>1.05</td>\n",
              "      <td>2.69</td>\n",
              "      <td>3.6</td>\n",
              "      <td>5.33</td>\n",
              "      <td>23.86</td>\n",
              "    </tr>\n",
              "  </tbody>\n",
              "</table>\n",
              "</div>\n",
              "      <button class=\"colab-df-convert\" onclick=\"convertToInteractive('df-e8b972c9-c810-441c-bd29-493b1ff04900')\"\n",
              "              title=\"Convert this dataframe to an interactive table.\"\n",
              "              style=\"display:none;\">\n",
              "        \n",
              "  <svg xmlns=\"http://www.w3.org/2000/svg\" height=\"24px\"viewBox=\"0 0 24 24\"\n",
              "       width=\"24px\">\n",
              "    <path d=\"M0 0h24v24H0V0z\" fill=\"none\"/>\n",
              "    <path d=\"M18.56 5.44l.94 2.06.94-2.06 2.06-.94-2.06-.94-.94-2.06-.94 2.06-2.06.94zm-11 1L8.5 8.5l.94-2.06 2.06-.94-2.06-.94L8.5 2.5l-.94 2.06-2.06.94zm10 10l.94 2.06.94-2.06 2.06-.94-2.06-.94-.94-2.06-.94 2.06-2.06.94z\"/><path d=\"M17.41 7.96l-1.37-1.37c-.4-.4-.92-.59-1.43-.59-.52 0-1.04.2-1.43.59L10.3 9.45l-7.72 7.72c-.78.78-.78 2.05 0 2.83L4 21.41c.39.39.9.59 1.41.59.51 0 1.02-.2 1.41-.59l7.78-7.78 2.81-2.81c.8-.78.8-2.07 0-2.86zM5.41 20L4 18.59l7.72-7.72 1.47 1.35L5.41 20z\"/>\n",
              "  </svg>\n",
              "      </button>\n",
              "      \n",
              "  <style>\n",
              "    .colab-df-container {\n",
              "      display:flex;\n",
              "      flex-wrap:wrap;\n",
              "      gap: 12px;\n",
              "    }\n",
              "\n",
              "    .colab-df-convert {\n",
              "      background-color: #E8F0FE;\n",
              "      border: none;\n",
              "      border-radius: 50%;\n",
              "      cursor: pointer;\n",
              "      display: none;\n",
              "      fill: #1967D2;\n",
              "      height: 32px;\n",
              "      padding: 0 0 0 0;\n",
              "      width: 32px;\n",
              "    }\n",
              "\n",
              "    .colab-df-convert:hover {\n",
              "      background-color: #E2EBFA;\n",
              "      box-shadow: 0px 1px 2px rgba(60, 64, 67, 0.3), 0px 1px 3px 1px rgba(60, 64, 67, 0.15);\n",
              "      fill: #174EA6;\n",
              "    }\n",
              "\n",
              "    [theme=dark] .colab-df-convert {\n",
              "      background-color: #3B4455;\n",
              "      fill: #D2E3FC;\n",
              "    }\n",
              "\n",
              "    [theme=dark] .colab-df-convert:hover {\n",
              "      background-color: #434B5C;\n",
              "      box-shadow: 0px 1px 3px 1px rgba(0, 0, 0, 0.15);\n",
              "      filter: drop-shadow(0px 1px 2px rgba(0, 0, 0, 0.3));\n",
              "      fill: #FFFFFF;\n",
              "    }\n",
              "  </style>\n",
              "\n",
              "      <script>\n",
              "        const buttonEl =\n",
              "          document.querySelector('#df-e8b972c9-c810-441c-bd29-493b1ff04900 button.colab-df-convert');\n",
              "        buttonEl.style.display =\n",
              "          google.colab.kernel.accessAllowed ? 'block' : 'none';\n",
              "\n",
              "        async function convertToInteractive(key) {\n",
              "          const element = document.querySelector('#df-e8b972c9-c810-441c-bd29-493b1ff04900');\n",
              "          const dataTable =\n",
              "            await google.colab.kernel.invokeFunction('convertToInteractive',\n",
              "                                                     [key], {});\n",
              "          if (!dataTable) return;\n",
              "\n",
              "          const docLinkHtml = 'Like what you see? Visit the ' +\n",
              "            '<a target=\"_blank\" href=https://colab.research.google.com/notebooks/data_table.ipynb>data table notebook</a>'\n",
              "            + ' to learn more about interactive tables.';\n",
              "          element.innerHTML = '';\n",
              "          dataTable['output_type'] = 'display_data';\n",
              "          await google.colab.output.renderOutput(dataTable, element);\n",
              "          const docLink = document.createElement('div');\n",
              "          docLink.innerHTML = docLinkHtml;\n",
              "          element.appendChild(docLink);\n",
              "        }\n",
              "      </script>\n",
              "    </div>\n",
              "  </div>\n",
              "  "
            ]
          },
          "metadata": {},
          "execution_count": 41
        }
      ],
      "source": [
        "spot_price.describe().transpose()"
      ]
    },
    {
      "cell_type": "code",
      "execution_count": 42,
      "id": "d0cfa3bb",
      "metadata": {
        "colab": {
          "base_uri": "https://localhost:8080/",
          "height": 286
        },
        "id": "d0cfa3bb",
        "outputId": "4943353a-d615-4a34-ca3a-a22a1e26aac0"
      },
      "outputs": [
        {
          "output_type": "stream",
          "name": "stdout",
          "text": [
            "Box plot Visualization\n"
          ]
        },
        {
          "output_type": "display_data",
          "data": {
            "text/plain": [
              "<Figure size 720x288 with 1 Axes>"
            ],
            "image/png": "[encoded data removed]"
          },
          "metadata": {
            "needs_background": "light"
          }
        }
      ],
      "source": [
        "# Generate Boxplot\n",
        "print(\"Box plot Visualization\")\n",
        "spot_price.plot(kind = \"box\", figsize = (10, 4))\n",
        "plt.show()"
      ]
    },
    {
      "cell_type": "code",
      "execution_count": 43,
      "id": "fd941267",
      "metadata": {
        "colab": {
          "base_uri": "https://localhost:8080/",
          "height": 337
        },
        "id": "fd941267",
        "outputId": "c4e9934b-e4a0-4440-d0b0-affe07379e52"
      },
      "outputs": [
        {
          "output_type": "stream",
          "name": "stdout",
          "text": [
            "Histogram Visualization:\n"
          ]
        },
        {
          "output_type": "display_data",
          "data": {
            "text/plain": [
              "<Figure size 720x360 with 1 Axes>"
            ],
            "image/png": "[encoded data removed]"
          },
          "metadata": {
            "needs_background": "light"
          }
        }
      ],
      "source": [
        "# Generate Histogram\n",
        "print( \"Histogram Visualization:\")\n",
        "spot_price.plot( kind = \"hist\", edgecolor = \"black\", figsize = (10,5))\n",
        "plt.show()"
      ]
    },
    {
      "cell_type": "code",
      "execution_count": 44,
      "id": "a54d9852",
      "metadata": {
        "colab": {
          "base_uri": "https://localhost:8080/",
          "height": 350
        },
        "id": "a54d9852",
        "outputId": "d8ed757c-413b-404c-8e56-167fd1455c2f"
      },
      "outputs": [
        {
          "output_type": "display_data",
          "data": {
            "text/plain": [
              "<Figure size 576x360 with 1 Axes>"
            ],
            "image/png": "[encoded data removed]"
          },
          "metadata": {
            "needs_background": "light"
          }
        }
      ],
      "source": [
        "import seaborn as sns\n",
        "fig, ax1 = plt.subplots(ncols = 1, figsize = (8,5))\n",
        "ax1.set_title(\"Price Data Before Scalling\")\n",
        "sns.kdeplot(spot_price[\"price\"], ax = ax1 )\n",
        "plt.show()"
      ]
    },
    {
      "cell_type": "code",
      "execution_count": 45,
      "id": "6987d099",
      "metadata": {
        "colab": {
          "base_uri": "https://localhost:8080/"
        },
        "id": "6987d099",
        "outputId": "1c41303a-c60e-41f2-909e-5aa7b5711383"
      },
      "outputs": [
        {
          "output_type": "stream",
          "name": "stdout",
          "text": [
            "Train Shape: (6191, 1)\n",
            "Test shape: (326, 1)\n"
          ]
        }
      ],
      "source": [
        "train_size = int(len(spot_price) * 0.95)\n",
        "test_size = len(spot_price) - train_size\n",
        "train, test = spot_price.iloc[0:train_size], spot_price.iloc[train_size:len(spot_price)]\n",
        "print (\"Train Shape:\", train.shape)\n",
        "print(\"Test shape:\", test.shape)"
      ]
    },
    {
      "cell_type": "code",
      "execution_count": 46,
      "id": "4ee2e0c4",
      "metadata": {
        "colab": {
          "base_uri": "https://localhost:8080/"
        },
        "id": "4ee2e0c4",
        "outputId": "5a15bd4a-7bc1-4072-a3cf-982cd3b87701"
      },
      "outputs": [
        {
          "output_type": "stream",
          "name": "stderr",
          "text": [
            "<ipython-input-46-2ec1c4785d42>:3: SettingWithCopyWarning: \n",
            "A value is trying to be set on a copy of a slice from a DataFrame.\n",
            "Try using .loc[row_indexer,col_indexer] = value instead\n",
            "\n",
            "See the caveats in the documentation: https://pandas.pydata.org/pandas-docs/stable/user_guide/indexing.html#returning-a-view-versus-a-copy\n",
            "  train[\"price\"] = robust.transform(train[[\"price\"]])\n",
            "<ipython-input-46-2ec1c4785d42>:4: SettingWithCopyWarning: \n",
            "A value is trying to be set on a copy of a slice from a DataFrame.\n",
            "Try using .loc[row_indexer,col_indexer] = value instead\n",
            "\n",
            "See the caveats in the documentation: https://pandas.pydata.org/pandas-docs/stable/user_guide/indexing.html#returning-a-view-versus-a-copy\n",
            "  test[\"price\"] = robust.transform(test[[\"price\"]])\n"
          ]
        }
      ],
      "source": [
        "# Data Standardization\n",
        "robust = RobustScaler(quantile_range = (25, 75)).fit(train[[\"price\"]])\n",
        "train[\"price\"] = robust.transform(train[[\"price\"]])\n",
        "test[\"price\"] = robust.transform(test[[\"price\"]])"
      ]
    },
    {
      "cell_type": "code",
      "execution_count": 47,
      "id": "81e702e7",
      "metadata": {
        "colab": {
          "base_uri": "https://localhost:8080/"
        },
        "id": "81e702e7",
        "outputId": "40a76caf-f275-4c04-a8d9-5e58305ca714"
      },
      "outputs": [
        {
          "output_type": "stream",
          "name": "stdout",
          "text": [
            "X_train shape: (6161, 30, 1)\n",
            "X_test shape: (296, 30, 1)\n"
          ]
        }
      ],
      "source": [
        "#helper function\n",
        "def create_dataset(X, y, time_steps=1):\n",
        "    a, b = [], []\n",
        "    for i in range(len(X) - time_steps):\n",
        "        v = X.iloc[i:(i + time_steps)]\n",
        "        a.append(v)\n",
        "        b.append(y.iloc[i + time_steps])\n",
        "    return np.array(a), np.array(b)\n",
        "\n",
        "    # Now we will create sequences with 30 days of historical Data\n",
        "n_steps = 30\n",
        "\n",
        "# reshape to 3D [n_samples, n_steps, n_features]\n",
        "X_train, y_train = create_dataset(train[[\"price\"]], train[\"price\"],n_steps)\n",
        "X_test, y_test = create_dataset(test[[\"price\"]], test['price'], n_steps)\n",
        "\n",
        "print (\"X_train shape:\", X_train.shape)\n",
        "print(\"X_test shape:\", X_test.shape)\n"
      ]
    },
    {
      "cell_type": "code",
      "execution_count": 48,
      "id": "c9e9e9ce",
      "metadata": {
        "colab": {
          "base_uri": "https://localhost:8080/"
        },
        "id": "c9e9e9ce",
        "outputId": "1030a8a3-d643-40d9-8b26-64d12eb11b86"
      },
      "outputs": [
        {
          "output_type": "execute_result",
          "data": {
            "text/plain": [
              "<keras.layers.reshaping.repeat_vector.RepeatVector at 0x7fb3da1b3e80>"
            ]
          },
          "metadata": {},
          "execution_count": 48
        }
      ],
      "source": [
        "import tensorflow as tf\n",
        "from tensorflow import keras\n",
        "from tensorflow.keras import layers\n",
        "import math\n",
        "from sklearn.metrics import mean_squared_error\n",
        "from pandas import DataFrame\n",
        "tf.keras.layers.RepeatVector(1)\n"
      ]
    },
    {
      "cell_type": "code",
      "execution_count": 49,
      "id": "7db3268d",
      "metadata": {
        "colab": {
          "base_uri": "https://localhost:8080/"
        },
        "id": "7db3268d",
        "outputId": "a54f89f6-433e-4ae6-fd76-5fa050ffbc5a"
      },
      "outputs": [
        {
          "output_type": "stream",
          "name": "stdout",
          "text": [
            "Epoch 1/50\n",
            "174/174 [==============================] - 10s 36ms/step - loss: 0.2541 - val_loss: 0.1376\n",
            "Epoch 2/50\n",
            "174/174 [==============================] - 5s 29ms/step - loss: 0.1872 - val_loss: 0.1271\n",
            "Epoch 3/50\n",
            "174/174 [==============================] - 6s 34ms/step - loss: 0.1843 - val_loss: 0.1247\n",
            "Epoch 4/50\n",
            "174/174 [==============================] - 5s 29ms/step - loss: 0.1775 - val_loss: 0.1242\n",
            "Epoch 5/50\n",
            "174/174 [==============================] - 6s 35ms/step - loss: 0.1744 - val_loss: 0.1246\n",
            "Epoch 6/50\n",
            "174/174 [==============================] - 5s 30ms/step - loss: 0.1725 - val_loss: 0.1220\n",
            "Epoch 7/50\n",
            "174/174 [==============================] - 6s 33ms/step - loss: 0.1690 - val_loss: 0.1232\n",
            "Epoch 8/50\n",
            "174/174 [==============================] - 7s 40ms/step - loss: 0.1684 - val_loss: 0.1218\n",
            "Epoch 9/50\n",
            "174/174 [==============================] - 6s 32ms/step - loss: 0.1671 - val_loss: 0.1230\n",
            "Epoch 10/50\n",
            "174/174 [==============================] - 6s 33ms/step - loss: 0.1682 - val_loss: 0.1198\n",
            "Epoch 11/50\n",
            "174/174 [==============================] - 5s 30ms/step - loss: 0.1653 - val_loss: 0.1241\n",
            "Epoch 12/50\n",
            "174/174 [==============================] - 6s 35ms/step - loss: 0.1658 - val_loss: 0.1227\n",
            "Epoch 13/50\n",
            "174/174 [==============================] - 5s 30ms/step - loss: 0.1687 - val_loss: 0.1255\n",
            "Epoch 14/50\n",
            "174/174 [==============================] - 6s 35ms/step - loss: 0.1643 - val_loss: 0.1241\n",
            "Epoch 15/50\n",
            "174/174 [==============================] - 5s 31ms/step - loss: 0.1656 - val_loss: 0.1240\n",
            "Epoch 16/50\n",
            "174/174 [==============================] - 6s 33ms/step - loss: 0.1654 - val_loss: 0.1253\n",
            "Epoch 17/50\n",
            "174/174 [==============================] - 6s 32ms/step - loss: 0.1646 - val_loss: 0.1250\n",
            "Epoch 18/50\n",
            "174/174 [==============================] - 5s 31ms/step - loss: 0.1653 - val_loss: 0.1269\n",
            "Epoch 19/50\n",
            "174/174 [==============================] - 6s 37ms/step - loss: 0.1645 - val_loss: 0.1285\n",
            "Epoch 20/50\n",
            "174/174 [==============================] - 5s 30ms/step - loss: 0.1670 - val_loss: 0.1278\n",
            "Epoch 21/50\n",
            "174/174 [==============================] - 6s 35ms/step - loss: 0.1652 - val_loss: 0.1269\n",
            "Epoch 22/50\n",
            "174/174 [==============================] - 5s 29ms/step - loss: 0.1636 - val_loss: 0.1281\n",
            "Epoch 23/50\n",
            "174/174 [==============================] - 6s 34ms/step - loss: 0.1648 - val_loss: 0.1284\n",
            "Epoch 24/50\n",
            "174/174 [==============================] - 5s 30ms/step - loss: 0.1652 - val_loss: 0.1289\n",
            "Epoch 25/50\n",
            "174/174 [==============================] - 5s 31ms/step - loss: 0.1653 - val_loss: 0.1318\n",
            "Epoch 26/50\n",
            "174/174 [==============================] - 6s 33ms/step - loss: 0.1659 - val_loss: 0.1287\n",
            "Epoch 27/50\n",
            "174/174 [==============================] - 5s 30ms/step - loss: 0.1644 - val_loss: 0.1303\n",
            "Epoch 28/50\n",
            "174/174 [==============================] - 6s 35ms/step - loss: 0.1641 - val_loss: 0.1333\n",
            "Epoch 29/50\n",
            "174/174 [==============================] - 5s 31ms/step - loss: 0.1639 - val_loss: 0.1316\n",
            "Epoch 30/50\n",
            "174/174 [==============================] - 7s 43ms/step - loss: 0.1632 - val_loss: 0.1298\n",
            "Epoch 31/50\n",
            "174/174 [==============================] - 5s 30ms/step - loss: 0.1653 - val_loss: 0.1358\n",
            "Epoch 32/50\n",
            "174/174 [==============================] - 6s 35ms/step - loss: 0.1655 - val_loss: 0.1298\n",
            "Epoch 33/50\n",
            "174/174 [==============================] - 5s 30ms/step - loss: 0.1647 - val_loss: 0.1315\n",
            "Epoch 34/50\n",
            "174/174 [==============================] - 7s 39ms/step - loss: 0.1646 - val_loss: 0.1322\n",
            "Epoch 35/50\n",
            "174/174 [==============================] - 5s 31ms/step - loss: 0.1629 - val_loss: 0.1306\n",
            "Epoch 36/50\n",
            "174/174 [==============================] - 5s 30ms/step - loss: 0.1630 - val_loss: 0.1328\n",
            "Epoch 37/50\n",
            "174/174 [==============================] - 6s 35ms/step - loss: 0.1641 - val_loss: 0.1326\n",
            "Epoch 38/50\n",
            "174/174 [==============================] - 5s 31ms/step - loss: 0.1610 - val_loss: 0.1323\n",
            "Epoch 39/50\n",
            "174/174 [==============================] - 6s 35ms/step - loss: 0.1636 - val_loss: 0.1352\n",
            "Epoch 40/50\n",
            "174/174 [==============================] - 5s 30ms/step - loss: 0.1636 - val_loss: 0.1272\n",
            "Epoch 41/50\n",
            "174/174 [==============================] - 6s 36ms/step - loss: 0.1653 - val_loss: 0.1391\n",
            "Epoch 42/50\n",
            "174/174 [==============================] - 5s 30ms/step - loss: 0.1646 - val_loss: 0.1340\n",
            "Epoch 43/50\n",
            "174/174 [==============================] - 6s 33ms/step - loss: 0.1631 - val_loss: 0.1276\n",
            "Epoch 44/50\n",
            "174/174 [==============================] - 6s 33ms/step - loss: 0.1626 - val_loss: 0.1315\n",
            "Epoch 45/50\n",
            "174/174 [==============================] - 5s 30ms/step - loss: 0.1626 - val_loss: 0.1337\n",
            "Epoch 46/50\n",
            "174/174 [==============================] - 6s 36ms/step - loss: 0.1623 - val_loss: 0.1319\n",
            "Epoch 47/50\n",
            "174/174 [==============================] - 5s 31ms/step - loss: 0.1618 - val_loss: 0.1306\n",
            "Epoch 48/50\n",
            "174/174 [==============================] - 7s 41ms/step - loss: 0.1626 - val_loss: 0.1354\n",
            "Epoch 49/50\n",
            "174/174 [==============================] - 6s 32ms/step - loss: 0.1630 - val_loss: 0.1330\n",
            "Epoch 50/50\n",
            "174/174 [==============================] - 6s 36ms/step - loss: 0.1615 - val_loss: 0.1303\n"
          ]
        }
      ],
      "source": [
        "units = 64\n",
        "dropout = 0.20\n",
        "optimizer = \"adam\"\n",
        "loss = 'mae'\n",
        "epochs = 50\n",
        "\n",
        "model = keras.Sequential()\n",
        "model.add(keras.layers.LSTM(units = units, input_shape = (X_train.shape[1], X_train.shape[2])))\n",
        "model.add(keras.layers.Dropout(rate=dropout))\n",
        "model.add(tf.keras.layers.RepeatVector(n=X_train.shape[1]))\n",
        "model.add(keras.layers.LSTM(units = units, return_sequences = True))\n",
        "model.add(keras.layers.Dropout(rate=dropout))\n",
        "model.add(keras.layers.TimeDistributed(keras.layers.Dense(units=X_train.shape[2])))\n",
        "model.compile(loss = loss, optimizer = optimizer)\n",
        "history = model.fit(X_train, y_train, epochs = epochs, batch_size = 32, validation_split = 0.1, shuffle = False)"
      ]
    },
    {
      "cell_type": "code",
      "execution_count": 50,
      "id": "980878c3",
      "metadata": {
        "colab": {
          "base_uri": "https://localhost:8080/",
          "height": 350
        },
        "id": "980878c3",
        "outputId": "706b876e-84c5-4bd2-b629-c9d88fd4955f"
      },
      "outputs": [
        {
          "output_type": "display_data",
          "data": {
            "text/plain": [
              "<Figure size 720x360 with 1 Axes>"
            ],
            "image/png": "[encoded data removed]"
          },
          "metadata": {
            "needs_background": "light"
          }
        }
      ],
      "source": [
        "#history for loss\n",
        "\n",
        "plt.figure(figsize = (10, 5))\n",
        "plt.plot(history.history['loss'])\n",
        "plt.plot(history.history['val_loss'])\n",
        "plt.title('model loss')\n",
        "plt.ylabel('loss')\n",
        "plt.xlabel('epoch')\n",
        "plt.legend(['train', 'test'], loc = 'upper left')\n",
        "plt.show()"
      ]
    },
    {
      "cell_type": "code",
      "execution_count": 51,
      "id": "6af19064",
      "metadata": {
        "colab": {
          "base_uri": "https://localhost:8080/",
          "height": 454
        },
        "id": "6af19064",
        "outputId": "afa16c93-06cc-4d3a-c1de-53544fa84790"
      },
      "outputs": [
        {
          "output_type": "stream",
          "name": "stdout",
          "text": [
            "193/193 [==============================] - 2s 9ms/step\n",
            "Training loss: 0.17491281048890414\n",
            "\n"
          ]
        },
        {
          "output_type": "display_data",
          "data": {
            "text/plain": [
              "<Figure size 720x360 with 0 Axes>"
            ]
          },
          "metadata": {}
        },
        {
          "output_type": "display_data",
          "data": {
            "text/plain": [
              "<Figure size 402.25x360 with 1 Axes>"
            ],
            "image/png": "[encoded data removed]"
          },
          "metadata": {
            "needs_background": "light"
          }
        }
      ],
      "source": [
        "train_pred = model.predict(X_train)\n",
        "train_loss = (np.mean(np.abs(train_pred - X_train), axis = 1))\n",
        "avg_loss = train_loss.mean()\n",
        "print(\"Training loss:\", avg_loss), print()\n",
        "\n",
        "plt.figure(figsize = (10, 5))\n",
        "sns.displot(train_loss, bins = 50, kde = True)\n",
        "plt.title('Distribution of training loss')\n",
        "plt.show()"
      ]
    },
    {
      "cell_type": "code",
      "source": [
        "# Get train MAE loss.\n",
        "train_pred = model.predict(X_train)\n",
        "train_loss = np.mean(np.abs(train_pred - X_train), axis=1)\n",
        "\n",
        "plt.figure(figsize = (10,5))\n",
        "plt.hist(train_loss, bins=50)\n",
        "plt.xlabel(\"Train MAE loss\")\n",
        "plt.ylabel(\"No of samples\")\n",
        "plt.show()"
      ],
      "metadata": {
        "colab": {
          "base_uri": "https://localhost:8080/",
          "height": 351
        },
        "id": "7x-K9va_fU8h",
        "outputId": "a881f079-7f60-4a7b-e17e-d00433143323"
      },
      "id": "7x-K9va_fU8h",
      "execution_count": 52,
      "outputs": [
        {
          "output_type": "stream",
          "name": "stdout",
          "text": [
            "193/193 [==============================] - 2s 10ms/step\n"
          ]
        },
        {
          "output_type": "display_data",
          "data": {
            "text/plain": [
              "<Figure size 720x360 with 1 Axes>"
            ],
            "image/png": "[encoded data removed]"
          },
          "metadata": {
            "needs_background": "light"
          }
        }
      ]
    },
    {
      "cell_type": "code",
      "source": [
        "# Get reconstruction loss threshold.\n",
        "threshold = np.max(train_loss)\n",
        "print(\"Reconstruction error threshold: \", threshold)"
      ],
      "metadata": {
        "colab": {
          "base_uri": "https://localhost:8080/"
        },
        "id": "P9y4o4tIfg32",
        "outputId": "c03393f9-c1ec-494c-f0df-254104c51e71"
      },
      "id": "P9y4o4tIfg32",
      "execution_count": 53,
      "outputs": [
        {
          "output_type": "stream",
          "name": "stdout",
          "text": [
            "Reconstruction error threshold:  3.7149789321605002\n"
          ]
        }
      ]
    },
    {
      "cell_type": "code",
      "source": [
        "\"\"\"### Compare recontruction\n",
        "Let's see how our model has recontructed the first sample. \n",
        "\"\"\"\n",
        "\n",
        "# Checking how the first sequence is learnt\n",
        "plt.figure(figsize = (10,5))\n",
        "plt.plot(X_train[0])\n",
        "plt.plot(train_pred[0])\n",
        "plt.show()\n"
      ],
      "metadata": {
        "colab": {
          "base_uri": "https://localhost:8080/",
          "height": 320
        },
        "id": "dY1bl6o3fmzW",
        "outputId": "87732741-c72e-4502-d9f9-f4b72abc39db"
      },
      "id": "dY1bl6o3fmzW",
      "execution_count": 54,
      "outputs": [
        {
          "output_type": "display_data",
          "data": {
            "text/plain": [
              "<Figure size 720x360 with 1 Axes>"
            ],
            "image/png": "[encoded data removed]"
          },
          "metadata": {
            "needs_background": "light"
          }
        }
      ]
    },
    {
      "cell_type": "code",
      "execution_count": 55,
      "id": "f4257986",
      "metadata": {
        "scrolled": true,
        "colab": {
          "base_uri": "https://localhost:8080/"
        },
        "id": "f4257986",
        "outputId": "2d0b7831-2946-4079-dd29-b5f95a50897c"
      },
      "outputs": [
        {
          "output_type": "stream",
          "name": "stdout",
          "text": [
            "10/10 [==============================] - 0s 8ms/step\n",
            "Predict shape: (296, 30, 1)\n",
            "\n"
          ]
        }
      ],
      "source": [
        "import math\n",
        "from sklearn.metrics import mean_squared_error\n",
        "from pandas import DataFrame\n",
        "\n",
        "# MAE on the test data:\n",
        "y_pred = model.predict(X_test)\n",
        "print('Predict shape:', y_pred.shape); print();\n",
        "mae = np.mean(np.abs(y_pred - X_test), axis=1)"
      ]
    },
    {
      "cell_type": "code",
      "execution_count": 56,
      "id": "8308ebbf",
      "metadata": {
        "colab": {
          "base_uri": "https://localhost:8080/"
        },
        "id": "8308ebbf",
        "outputId": "fe808a75-b457-4ceb-8f8d-11765e272744"
      },
      "outputs": [
        {
          "output_type": "stream",
          "name": "stdout",
          "text": [
            "Prediction: (8880, 1)\n",
            "\n",
            "Test data shape: (296, 30, 1)\n",
            "\n"
          ]
        }
      ],
      "source": [
        "# reshaping prediction\n",
        "pred = y_pred.reshape((y_pred.shape[0] * y_pred.shape[1]), y_pred.shape[2])\n",
        "print('Prediction:', pred.shape); print();\n",
        "print('Test data shape:', X_test.shape); print();\n"
      ]
    },
    {
      "cell_type": "code",
      "execution_count": 57,
      "id": "d5754134",
      "metadata": {
        "colab": {
          "base_uri": "https://localhost:8080/"
        },
        "id": "d5754134",
        "outputId": "dc4bf724-efe2-48e6-fbe4-2a84ffe0ec69"
      },
      "outputs": [
        {
          "output_type": "stream",
          "name": "stdout",
          "text": [
            "Test data: (8880, 1)\n",
            "\n",
            "Error: (8880, 1)\n",
            "\n"
          ]
        },
        {
          "output_type": "execute_result",
          "data": {
            "text/plain": [
              "(None, None)"
            ]
          },
          "metadata": {},
          "execution_count": 57
        }
      ],
      "source": [
        "# reshaping test data\n",
        "X_test = X_test.reshape((X_test.shape[0] * X_test.shape[1]), X_test.shape[2])\n",
        "print('Test data:', X_test.shape); print();\n",
        "\n",
        "#Error Computation (To be solve)\n",
        "errors = X_test - pred\n",
        "print(\"Error:\", errors.shape), print()\n"
      ]
    },
    {
      "cell_type": "code",
      "execution_count": 58,
      "id": "0ce2c58c",
      "metadata": {
        "colab": {
          "base_uri": "https://localhost:8080/"
        },
        "id": "0ce2c58c",
        "outputId": "13ad9123-19c1-49ef-a6c3-cb197de6c6b3"
      },
      "outputs": [
        {
          "output_type": "stream",
          "name": "stdout",
          "text": [
            "Test RMSE: 0.484\n"
          ]
        }
      ],
      "source": [
        "#rmse on Test Data\n",
        "RMSE = math.sqrt(mean_squared_error(X_test, pred))\n",
        "print('Test RMSE: %.3f' % RMSE);"
      ]
    },
    {
      "cell_type": "code",
      "execution_count": 59,
      "id": "8fa66c1d",
      "metadata": {
        "colab": {
          "base_uri": "https://localhost:8080/"
        },
        "id": "8fa66c1d",
        "outputId": "637c5682-a802-451c-86a9-b2b98cfe962b"
      },
      "outputs": [
        {
          "output_type": "stream",
          "name": "stdout",
          "text": [
            "Score: (8880,)\n",
            "Cutoff value: 7104\n",
            "Threshold value: 0.5926547745268738\n"
          ]
        }
      ],
      "source": [
        "# Threshould Computation \n",
        "dist = np.linalg.norm(X_test - pred, axis=1)\n",
        "scores = dist.copy()\n",
        "print('Score:', scores.shape)\n",
        "scores.sort()\n",
        "cut_off = int(0.80 * len(scores))\n",
        "print('Cutoff value:', cut_off)\n",
        "threshold = scores[cut_off]\n",
        "print('Threshold value:', threshold) \n"
      ]
    },
    {
      "cell_type": "code",
      "execution_count": 60,
      "id": "1895fb69",
      "metadata": {
        "colab": {
          "base_uri": "https://localhost:8080/",
          "height": 336
        },
        "id": "1895fb69",
        "outputId": "d38b11a9-d2b7-4dda-847b-bc455b81f05c"
      },
      "outputs": [
        {
          "output_type": "display_data",
          "data": {
            "text/plain": [
              "<Figure size 720x360 with 1 Axes>"
            ],
            "image/png": "[encoded data removed]"
          },
          "metadata": {
            "needs_background": "light"
          }
        }
      ],
      "source": [
        "plt.figure(figsize= (10,5))\n",
        "plt.plot(X_test, color = 'green')\n",
        "plt.plot(pred, color = 'red')\n",
        "plt.title(\"Test & Predicted data\")\n",
        "plt.show()"
      ]
    },
    {
      "cell_type": "code",
      "execution_count": 77,
      "id": "a55e5070",
      "metadata": {
        "colab": {
          "base_uri": "https://localhost:8080/",
          "height": 320
        },
        "id": "a55e5070",
        "outputId": "d0e5f9d3-8369-420d-eede-7aa699fd2789"
      },
      "outputs": [
        {
          "output_type": "display_data",
          "data": {
            "text/plain": [
              "<Figure size 720x360 with 1 Axes>"
            ],
            "image/png": "[encoded data removed]"
          },
          "metadata": {
            "needs_background": "light"
          }
        }
      ],
      "source": [
        "score = DataFrame(index=test[n_steps:].index)\n",
        "score['loss'] = mae\n",
        "score['threshold'] = threshold\n",
        "score['anomaly'] = score['loss'] > score['threshold']\n",
        "score['price'] = test[n_steps:].price\n",
        "\n",
        "plt.figure(figsize = (10,5))\n",
        "plt.plot(score.index, score['loss'], color = 'green', label='loss')\n",
        "plt.plot(score.index, score['threshold'], color = 'r', label='threshold')\n",
        "plt.legend();"
      ]
    },
    {
      "cell_type": "code",
      "execution_count": 62,
      "id": "6dbc37ab",
      "metadata": {
        "colab": {
          "base_uri": "https://localhost:8080/",
          "height": 394
        },
        "id": "6dbc37ab",
        "outputId": "a0f7f9b5-3cc2-45c6-f548-1e41269d7dd1"
      },
      "outputs": [
        {
          "output_type": "execute_result",
          "data": {
            "text/plain": [
              "                loss  threshold  anomaly  inverse_price\n",
              "Date                                                   \n",
              "2022-10-14  0.632232   0.592655     True           6.10\n",
              "2022-10-17  0.627056   0.592655     True           6.08\n",
              "2022-10-18  0.594551   0.592655     True           6.16\n",
              "2022-10-20  0.608882   0.592655     True           5.10\n",
              "2022-10-21  0.715796   0.592655     True           4.45\n",
              "2022-10-24  0.865569   0.592655     True           4.81\n",
              "2022-10-25  0.782888   0.592655     True           5.17\n",
              "2022-10-26  0.665003   0.592655     True           5.28\n",
              "2022-11-07  0.600926   0.592655     True           4.62\n",
              "2022-11-10  0.670035   0.592655     True           4.80"
            ],
            "text/html": [
              "\n",
              "  <div id=\"df-54a3d6d7-8970-4784-a487-c877bc3f25b5\">\n",
              "    <div class=\"colab-df-container\">\n",
              "      <div>\n",
              "<style scoped>\n",
              "    .dataframe tbody tr th:only-of-type {\n",
              "        vertical-align: middle;\n",
              "    }\n",
              "\n",
              "    .dataframe tbody tr th {\n",
              "        vertical-align: top;\n",
              "    }\n",
              "\n",
              "    .dataframe thead th {\n",
              "        text-align: right;\n",
              "    }\n",
              "</style>\n",
              "<table border=\"1\" class=\"dataframe\">\n",
              "  <thead>\n",
              "    <tr style=\"text-align: right;\">\n",
              "      <th></th>\n",
              "      <th>loss</th>\n",
              "      <th>threshold</th>\n",
              "      <th>anomaly</th>\n",
              "      <th>inverse_price</th>\n",
              "    </tr>\n",
              "    <tr>\n",
              "      <th>Date</th>\n",
              "      <th></th>\n",
              "      <th></th>\n",
              "      <th></th>\n",
              "      <th></th>\n",
              "    </tr>\n",
              "  </thead>\n",
              "  <tbody>\n",
              "    <tr>\n",
              "      <th>2022-10-14</th>\n",
              "      <td>0.632232</td>\n",
              "      <td>0.592655</td>\n",
              "      <td>True</td>\n",
              "      <td>6.10</td>\n",
              "    </tr>\n",
              "    <tr>\n",
              "      <th>2022-10-17</th>\n",
              "      <td>0.627056</td>\n",
              "      <td>0.592655</td>\n",
              "      <td>True</td>\n",
              "      <td>6.08</td>\n",
              "    </tr>\n",
              "    <tr>\n",
              "      <th>2022-10-18</th>\n",
              "      <td>0.594551</td>\n",
              "      <td>0.592655</td>\n",
              "      <td>True</td>\n",
              "      <td>6.16</td>\n",
              "    </tr>\n",
              "    <tr>\n",
              "      <th>2022-10-20</th>\n",
              "      <td>0.608882</td>\n",
              "      <td>0.592655</td>\n",
              "      <td>True</td>\n",
              "      <td>5.10</td>\n",
              "    </tr>\n",
              "    <tr>\n",
              "      <th>2022-10-21</th>\n",
              "      <td>0.715796</td>\n",
              "      <td>0.592655</td>\n",
              "      <td>True</td>\n",
              "      <td>4.45</td>\n",
              "    </tr>\n",
              "    <tr>\n",
              "      <th>2022-10-24</th>\n",
              "      <td>0.865569</td>\n",
              "      <td>0.592655</td>\n",
              "      <td>True</td>\n",
              "      <td>4.81</td>\n",
              "    </tr>\n",
              "    <tr>\n",
              "      <th>2022-10-25</th>\n",
              "      <td>0.782888</td>\n",
              "      <td>0.592655</td>\n",
              "      <td>True</td>\n",
              "      <td>5.17</td>\n",
              "    </tr>\n",
              "    <tr>\n",
              "      <th>2022-10-26</th>\n",
              "      <td>0.665003</td>\n",
              "      <td>0.592655</td>\n",
              "      <td>True</td>\n",
              "      <td>5.28</td>\n",
              "    </tr>\n",
              "    <tr>\n",
              "      <th>2022-11-07</th>\n",
              "      <td>0.600926</td>\n",
              "      <td>0.592655</td>\n",
              "      <td>True</td>\n",
              "      <td>4.62</td>\n",
              "    </tr>\n",
              "    <tr>\n",
              "      <th>2022-11-10</th>\n",
              "      <td>0.670035</td>\n",
              "      <td>0.592655</td>\n",
              "      <td>True</td>\n",
              "      <td>4.80</td>\n",
              "    </tr>\n",
              "  </tbody>\n",
              "</table>\n",
              "</div>\n",
              "      <button class=\"colab-df-convert\" onclick=\"convertToInteractive('df-54a3d6d7-8970-4784-a487-c877bc3f25b5')\"\n",
              "              title=\"Convert this dataframe to an interactive table.\"\n",
              "              style=\"display:none;\">\n",
              "        \n",
              "  <svg xmlns=\"http://www.w3.org/2000/svg\" height=\"24px\"viewBox=\"0 0 24 24\"\n",
              "       width=\"24px\">\n",
              "    <path d=\"M0 0h24v24H0V0z\" fill=\"none\"/>\n",
              "    <path d=\"M18.56 5.44l.94 2.06.94-2.06 2.06-.94-2.06-.94-.94-2.06-.94 2.06-2.06.94zm-11 1L8.5 8.5l.94-2.06 2.06-.94-2.06-.94L8.5 2.5l-.94 2.06-2.06.94zm10 10l.94 2.06.94-2.06 2.06-.94-2.06-.94-.94-2.06-.94 2.06-2.06.94z\"/><path d=\"M17.41 7.96l-1.37-1.37c-.4-.4-.92-.59-1.43-.59-.52 0-1.04.2-1.43.59L10.3 9.45l-7.72 7.72c-.78.78-.78 2.05 0 2.83L4 21.41c.39.39.9.59 1.41.59.51 0 1.02-.2 1.41-.59l7.78-7.78 2.81-2.81c.8-.78.8-2.07 0-2.86zM5.41 20L4 18.59l7.72-7.72 1.47 1.35L5.41 20z\"/>\n",
              "  </svg>\n",
              "      </button>\n",
              "      \n",
              "  <style>\n",
              "    .colab-df-container {\n",
              "      display:flex;\n",
              "      flex-wrap:wrap;\n",
              "      gap: 12px;\n",
              "    }\n",
              "\n",
              "    .colab-df-convert {\n",
              "      background-color: #E8F0FE;\n",
              "      border: none;\n",
              "      border-radius: 50%;\n",
              "      cursor: pointer;\n",
              "      display: none;\n",
              "      fill: #1967D2;\n",
              "      height: 32px;\n",
              "      padding: 0 0 0 0;\n",
              "      width: 32px;\n",
              "    }\n",
              "\n",
              "    .colab-df-convert:hover {\n",
              "      background-color: #E2EBFA;\n",
              "      box-shadow: 0px 1px 2px rgba(60, 64, 67, 0.3), 0px 1px 3px 1px rgba(60, 64, 67, 0.15);\n",
              "      fill: #174EA6;\n",
              "    }\n",
              "\n",
              "    [theme=dark] .colab-df-convert {\n",
              "      background-color: #3B4455;\n",
              "      fill: #D2E3FC;\n",
              "    }\n",
              "\n",
              "    [theme=dark] .colab-df-convert:hover {\n",
              "      background-color: #434B5C;\n",
              "      box-shadow: 0px 1px 3px 1px rgba(0, 0, 0, 0.15);\n",
              "      filter: drop-shadow(0px 1px 2px rgba(0, 0, 0, 0.3));\n",
              "      fill: #FFFFFF;\n",
              "    }\n",
              "  </style>\n",
              "\n",
              "      <script>\n",
              "        const buttonEl =\n",
              "          document.querySelector('#df-54a3d6d7-8970-4784-a487-c877bc3f25b5 button.colab-df-convert');\n",
              "        buttonEl.style.display =\n",
              "          google.colab.kernel.accessAllowed ? 'block' : 'none';\n",
              "\n",
              "        async function convertToInteractive(key) {\n",
              "          const element = document.querySelector('#df-54a3d6d7-8970-4784-a487-c877bc3f25b5');\n",
              "          const dataTable =\n",
              "            await google.colab.kernel.invokeFunction('convertToInteractive',\n",
              "                                                     [key], {});\n",
              "          if (!dataTable) return;\n",
              "\n",
              "          const docLinkHtml = 'Like what you see? Visit the ' +\n",
              "            '<a target=\"_blank\" href=https://colab.research.google.com/notebooks/data_table.ipynb>data table notebook</a>'\n",
              "            + ' to learn more about interactive tables.';\n",
              "          element.innerHTML = '';\n",
              "          dataTable['output_type'] = 'display_data';\n",
              "          await google.colab.output.renderOutput(dataTable, element);\n",
              "          const docLink = document.createElement('div');\n",
              "          docLink.innerHTML = docLinkHtml;\n",
              "          element.appendChild(docLink);\n",
              "        }\n",
              "      </script>\n",
              "    </div>\n",
              "  </div>\n",
              "  "
            ]
          },
          "metadata": {},
          "execution_count": 62
        }
      ],
      "source": [
        "#Anomalies Report Format\n",
        "anomalies = score[score['anomaly'] == True]\n",
        "x = DataFrame(anomalies.price)\n",
        "x = DataFrame(robust.inverse_transform(x))\n",
        "x.index = anomalies.index\n",
        "x.rename(columns = {0: 'inverse_price'}, inplace = True)\n",
        "anomalies = anomalies.join(x, how = 'left')\n",
        "anomalies = anomalies.drop(columns=['price'], axis=1)\n",
        "anomalies.tail(10) \n"
      ]
    },
    {
      "cell_type": "code",
      "source": [
        "test[n_steps:].index\n",
        "\n",
        "test_inv = DataFrame(robust.inverse_transform(test[n_steps:]))\n",
        "test_inv.index = test[n_steps:].index\n",
        "test_inv.rename(columns = {0: 'price'}, inplace = True)\n",
        "test_inv\n",
        "\n",
        "plt.figure(figsize = (10,5))\n",
        "plt.plot(test_inv.index, test_inv.price, color = 'gray', label='spot price');\n",
        "sns.scatterplot(anomalies.index, anomalies['inverse_price'], color=sns.color_palette()[3], s=55, label='anomaly')\n",
        "plt.xticks(rotation=90)\n",
        "plt.legend(loc='upper center');"
      ],
      "metadata": {
        "colab": {
          "base_uri": "https://localhost:8080/",
          "height": 420
        },
        "id": "N2uDLnz6i-Mi",
        "outputId": "aabbf806-4d9a-44e9-ea4e-087004871abb"
      },
      "id": "N2uDLnz6i-Mi",
      "execution_count": 63,
      "outputs": [
        {
          "output_type": "stream",
          "name": "stderr",
          "text": [
            "/usr/local/lib/python3.8/dist-packages/seaborn/_decorators.py:36: FutureWarning: Pass the following variables as keyword args: x, y. From version 0.12, the only valid positional argument will be `data`, and passing other arguments without an explicit keyword will result in an error or misinterpretation.\n",
            "  warnings.warn(\n"
          ]
        },
        {
          "output_type": "display_data",
          "data": {
            "text/plain": [
              "<Figure size 720x360 with 1 Axes>"
            ],
            "image/png": "[encoded data removed]"
          },
          "metadata": {
            "needs_background": "light"
          }
        }
      ]
    },
    {
      "cell_type": "code",
      "execution_count": 64,
      "id": "53ebc4c2",
      "metadata": {
        "colab": {
          "base_uri": "https://localhost:8080/",
          "height": 455
        },
        "id": "53ebc4c2",
        "outputId": "e77a91f0-a49c-4ce5-c7f8-06cb6e3f26b4"
      },
      "outputs": [
        {
          "output_type": "execute_result",
          "data": {
            "text/plain": [
              "            price\n",
              "Date             \n",
              "2021-10-07   5.71\n",
              "2021-10-08   5.46\n",
              "2021-10-11   5.46\n",
              "2021-10-12   5.34\n",
              "2021-10-13   5.56\n",
              "...           ...\n",
              "2022-12-06   4.58\n",
              "2022-12-07   4.49\n",
              "2022-12-08   4.79\n",
              "2022-12-09   4.98\n",
              "2022-12-12   6.73\n",
              "\n",
              "[296 rows x 1 columns]"
            ],
            "text/html": [
              "\n",
              "  <div id=\"df-ac3f5b57-086e-4258-9e78-5d8bcf7323d0\">\n",
              "    <div class=\"colab-df-container\">\n",
              "      <div>\n",
              "<style scoped>\n",
              "    .dataframe tbody tr th:only-of-type {\n",
              "        vertical-align: middle;\n",
              "    }\n",
              "\n",
              "    .dataframe tbody tr th {\n",
              "        vertical-align: top;\n",
              "    }\n",
              "\n",
              "    .dataframe thead th {\n",
              "        text-align: right;\n",
              "    }\n",
              "</style>\n",
              "<table border=\"1\" class=\"dataframe\">\n",
              "  <thead>\n",
              "    <tr style=\"text-align: right;\">\n",
              "      <th></th>\n",
              "      <th>price</th>\n",
              "    </tr>\n",
              "    <tr>\n",
              "      <th>Date</th>\n",
              "      <th></th>\n",
              "    </tr>\n",
              "  </thead>\n",
              "  <tbody>\n",
              "    <tr>\n",
              "      <th>2021-10-07</th>\n",
              "      <td>5.71</td>\n",
              "    </tr>\n",
              "    <tr>\n",
              "      <th>2021-10-08</th>\n",
              "      <td>5.46</td>\n",
              "    </tr>\n",
              "    <tr>\n",
              "      <th>2021-10-11</th>\n",
              "      <td>5.46</td>\n",
              "    </tr>\n",
              "    <tr>\n",
              "      <th>2021-10-12</th>\n",
              "      <td>5.34</td>\n",
              "    </tr>\n",
              "    <tr>\n",
              "      <th>2021-10-13</th>\n",
              "      <td>5.56</td>\n",
              "    </tr>\n",
              "    <tr>\n",
              "      <th>...</th>\n",
              "      <td>...</td>\n",
              "    </tr>\n",
              "    <tr>\n",
              "      <th>2022-12-06</th>\n",
              "      <td>4.58</td>\n",
              "    </tr>\n",
              "    <tr>\n",
              "      <th>2022-12-07</th>\n",
              "      <td>4.49</td>\n",
              "    </tr>\n",
              "    <tr>\n",
              "      <th>2022-12-08</th>\n",
              "      <td>4.79</td>\n",
              "    </tr>\n",
              "    <tr>\n",
              "      <th>2022-12-09</th>\n",
              "      <td>4.98</td>\n",
              "    </tr>\n",
              "    <tr>\n",
              "      <th>2022-12-12</th>\n",
              "      <td>6.73</td>\n",
              "    </tr>\n",
              "  </tbody>\n",
              "</table>\n",
              "<p>296 rows × 1 columns</p>\n",
              "</div>\n",
              "      <button class=\"colab-df-convert\" onclick=\"convertToInteractive('df-ac3f5b57-086e-4258-9e78-5d8bcf7323d0')\"\n",
              "              title=\"Convert this dataframe to an interactive table.\"\n",
              "              style=\"display:none;\">\n",
              "        \n",
              "  <svg xmlns=\"http://www.w3.org/2000/svg\" height=\"24px\"viewBox=\"0 0 24 24\"\n",
              "       width=\"24px\">\n",
              "    <path d=\"M0 0h24v24H0V0z\" fill=\"none\"/>\n",
              "    <path d=\"M18.56 5.44l.94 2.06.94-2.06 2.06-.94-2.06-.94-.94-2.06-.94 2.06-2.06.94zm-11 1L8.5 8.5l.94-2.06 2.06-.94-2.06-.94L8.5 2.5l-.94 2.06-2.06.94zm10 10l.94 2.06.94-2.06 2.06-.94-2.06-.94-.94-2.06-.94 2.06-2.06.94z\"/><path d=\"M17.41 7.96l-1.37-1.37c-.4-.4-.92-.59-1.43-.59-.52 0-1.04.2-1.43.59L10.3 9.45l-7.72 7.72c-.78.78-.78 2.05 0 2.83L4 21.41c.39.39.9.59 1.41.59.51 0 1.02-.2 1.41-.59l7.78-7.78 2.81-2.81c.8-.78.8-2.07 0-2.86zM5.41 20L4 18.59l7.72-7.72 1.47 1.35L5.41 20z\"/>\n",
              "  </svg>\n",
              "      </button>\n",
              "      \n",
              "  <style>\n",
              "    .colab-df-container {\n",
              "      display:flex;\n",
              "      flex-wrap:wrap;\n",
              "      gap: 12px;\n",
              "    }\n",
              "\n",
              "    .colab-df-convert {\n",
              "      background-color: #E8F0FE;\n",
              "      border: none;\n",
              "      border-radius: 50%;\n",
              "      cursor: pointer;\n",
              "      display: none;\n",
              "      fill: #1967D2;\n",
              "      height: 32px;\n",
              "      padding: 0 0 0 0;\n",
              "      width: 32px;\n",
              "    }\n",
              "\n",
              "    .colab-df-convert:hover {\n",
              "      background-color: #E2EBFA;\n",
              "      box-shadow: 0px 1px 2px rgba(60, 64, 67, 0.3), 0px 1px 3px 1px rgba(60, 64, 67, 0.15);\n",
              "      fill: #174EA6;\n",
              "    }\n",
              "\n",
              "    [theme=dark] .colab-df-convert {\n",
              "      background-color: #3B4455;\n",
              "      fill: #D2E3FC;\n",
              "    }\n",
              "\n",
              "    [theme=dark] .colab-df-convert:hover {\n",
              "      background-color: #434B5C;\n",
              "      box-shadow: 0px 1px 3px 1px rgba(0, 0, 0, 0.15);\n",
              "      filter: drop-shadow(0px 1px 2px rgba(0, 0, 0, 0.3));\n",
              "      fill: #FFFFFF;\n",
              "    }\n",
              "  </style>\n",
              "\n",
              "      <script>\n",
              "        const buttonEl =\n",
              "          document.querySelector('#df-ac3f5b57-086e-4258-9e78-5d8bcf7323d0 button.colab-df-convert');\n",
              "        buttonEl.style.display =\n",
              "          google.colab.kernel.accessAllowed ? 'block' : 'none';\n",
              "\n",
              "        async function convertToInteractive(key) {\n",
              "          const element = document.querySelector('#df-ac3f5b57-086e-4258-9e78-5d8bcf7323d0');\n",
              "          const dataTable =\n",
              "            await google.colab.kernel.invokeFunction('convertToInteractive',\n",
              "                                                     [key], {});\n",
              "          if (!dataTable) return;\n",
              "\n",
              "          const docLinkHtml = 'Like what you see? Visit the ' +\n",
              "            '<a target=\"_blank\" href=https://colab.research.google.com/notebooks/data_table.ipynb>data table notebook</a>'\n",
              "            + ' to learn more about interactive tables.';\n",
              "          element.innerHTML = '';\n",
              "          dataTable['output_type'] = 'display_data';\n",
              "          await google.colab.output.renderOutput(dataTable, element);\n",
              "          const docLink = document.createElement('div');\n",
              "          docLink.innerHTML = docLinkHtml;\n",
              "          element.appendChild(docLink);\n",
              "        }\n",
              "      </script>\n",
              "    </div>\n",
              "  </div>\n",
              "  "
            ]
          },
          "metadata": {},
          "execution_count": 64
        }
      ],
      "source": [
        "#Inverse Test Data:\n",
        "test_inv = DataFrame(robust.inverse_transform(test[n_steps:]))\n",
        "test_inv.index = test[n_steps:].index\n",
        "test_inv.rename(columns = {0: 'price'}, inplace = True)\n",
        "test_inv "
      ]
    },
    {
      "cell_type": "code",
      "execution_count": 76,
      "id": "52f0987c",
      "metadata": {
        "colab": {
          "base_uri": "https://localhost:8080/",
          "height": 423
        },
        "id": "52f0987c",
        "outputId": "7f3fc147-d6c0-4583-f9e8-efd7023626fd"
      },
      "outputs": [
        {
          "output_type": "stream",
          "name": "stderr",
          "text": [
            "/usr/local/lib/python3.8/dist-packages/seaborn/_decorators.py:36: FutureWarning: Pass the following variables as keyword args: x, y. From version 0.12, the only valid positional argument will be `data`, and passing other arguments without an explicit keyword will result in an error or misinterpretation.\n",
            "  warnings.warn(\n",
            "WARNING:matplotlib.backends.backend_ps:The PostScript backend does not support transparency; partially transparent artists will be rendered opaque.\n",
            "WARNING:matplotlib.backends.backend_ps:The PostScript backend does not support transparency; partially transparent artists will be rendered opaque.\n"
          ]
        },
        {
          "output_type": "display_data",
          "data": {
            "text/plain": [
              "<Figure size 720x360 with 1 Axes>"
            ],
            "image/png": "[encoded data removed]"
          },
          "metadata": {
            "needs_background": "light"
          }
        }
      ],
      "source": [
        "#Anomalies found in testing Data:\n",
        "plt.figure(figsize = (10,5))\n",
        "plt.plot(test_inv.index, test_inv.price, color = 'gray', label='spot price')\n",
        "sns.scatterplot(anomalies.index, anomalies['inverse_price'], color='red', s=55, label='anomaly')\n",
        "sns.despine(right = True)\n",
        "plt.legend(loc='upper right')\n",
        "plt.xlabel('Date')\n",
        "plt.ylabel('Spot Price')\n",
        "\n",
        "from google.colab import drive\n",
        "#drive.mount('/content/drive')\n",
        "images_dir = '/content/drive/MyDrive/Colab Notebooks/try'\n",
        "plt.savefig(f\"{images_dir}/anomaly.eps\", dpi=300, bbox_inches='tight')"
      ]
    }
  ],
  "metadata": {
    "kernelspec": {
      "display_name": "Python 3",
      "language": "python",
      "name": "python3"
    },
    "language_info": {
      "codemirror_mode": {
        "name": "ipython",
        "version": 3
      },
      "file_extension": ".py",
      "mimetype": "text/x-python",
      "name": "python",
      "nbconvert_exporter": "python",
      "pygments_lexer": "ipython3",
      "version": "3.8.8"
    },
    "colab": {
      "provenance": []
    }
  },
  "nbformat": 4,
  "nbformat_minor": 5
}