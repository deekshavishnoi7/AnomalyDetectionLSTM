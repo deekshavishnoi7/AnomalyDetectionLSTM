{
  "cells": [
    {
      "cell_type": "code",
      "execution_count": 1,
      "id": "730b4cfa",
      "metadata": {
        "id": "730b4cfa"
      },
      "outputs": [],
      "source": [
        "import numpy as np\n",
        "import pandas as pd\n",
        "import matplotlib.pyplot as plt\n",
        "from sklearn.preprocessing import RobustScaler\n",
        "from matplotlib import figure as fig"
      ]
    },
    {
      "cell_type": "code",
      "source": [
        "from google.colab import files\n",
        "uploaded = files.upload()"
      ],
      "metadata": {
        "colab": {
          "base_uri": "https://localhost:8080/",
          "height": 73
        },
        "id": "W8SbHEMqcSMV",
        "outputId": "bbc61c95-48cf-4422-a976-996ccf51e9d6"
      },
      "id": "W8SbHEMqcSMV",
      "execution_count": 2,
      "outputs": [
        {
          "output_type": "display_data",
          "data": {
            "text/plain": [
              "<IPython.core.display.HTML object>"
            ],
            "text/html": [
              "\n",
              "     <input type=\"file\" id=\"files-ad71ed8c-f0ee-49f5-be66-41fc90c54b08\" name=\"files[]\" multiple disabled\n",
              "        style=\"border:none\" />\n",
              "     <output id=\"result-ad71ed8c-f0ee-49f5-be66-41fc90c54b08\">\n",
              "      Upload widget is only available when the cell has been executed in the\n",
              "      current browser session. Please rerun this cell to enable.\n",
              "      </output>\n",
              "      <script>// Copyright 2017 Google LLC\n",
              "//\n",
              "// Licensed under the Apache License, Version 2.0 (the \"License\");\n",
              "// you may not use this file except in compliance with the License.\n",
              "// You may obtain a copy of the License at\n",
              "//\n",
              "//      http://www.apache.org/licenses/LICENSE-2.0\n",
              "//\n",
              "// Unless required by applicable law or agreed to in writing, software\n",
              "// distributed under the License is distributed on an \"AS IS\" BASIS,\n",
              "// WITHOUT WARRANTIES OR CONDITIONS OF ANY KIND, either express or implied.\n",
              "// See the License for the specific language governing permissions and\n",
              "// limitations under the License.\n",
              "\n",
              "/**\n",
              " * @fileoverview Helpers for google.colab Python module.\n",
              " */\n",
              "(function(scope) {\n",
              "function span(text, styleAttributes = {}) {\n",
              "  const element = document.createElement('span');\n",
              "  element.textContent = text;\n",
              "  for (const key of Object.keys(styleAttributes)) {\n",
              "    element.style[key] = styleAttributes[key];\n",
              "  }\n",
              "  return element;\n",
              "}\n",
              "\n",
              "// Max number of bytes which will be uploaded at a time.\n",
              "const MAX_PAYLOAD_SIZE = 100 * 1024;\n",
              "\n",
              "function _uploadFiles(inputId, outputId) {\n",
              "  const steps = uploadFilesStep(inputId, outputId);\n",
              "  const outputElement = document.getElementById(outputId);\n",
              "  // Cache steps on the outputElement to make it available for the next call\n",
              "  // to uploadFilesContinue from Python.\n",
              "  outputElement.steps = steps;\n",
              "\n",
              "  return _uploadFilesContinue(outputId);\n",
              "}\n",
              "\n",
              "// This is roughly an async generator (not supported in the browser yet),\n",
              "// where there are multiple asynchronous steps and the Python side is going\n",
              "// to poll for completion of each step.\n",
              "// This uses a Promise to block the python side on completion of each step,\n",
              "// then passes the result of the previous step as the input to the next step.\n",
              "function _uploadFilesContinue(outputId) {\n",
              "  const outputElement = document.getElementById(outputId);\n",
              "  const steps = outputElement.steps;\n",
              "\n",
              "  const next = steps.next(outputElement.lastPromiseValue);\n",
              "  return Promise.resolve(next.value.promise).then((value) => {\n",
              "    // Cache the last promise value to make it available to the next\n",
              "    // step of the generator.\n",
              "    outputElement.lastPromiseValue = value;\n",
              "    return next.value.response;\n",
              "  });\n",
              "}\n",
              "\n",
              "/**\n",
              " * Generator function which is called between each async step of the upload\n",
              " * process.\n",
              " * @param {string} inputId Element ID of the input file picker element.\n",
              " * @param {string} outputId Element ID of the output display.\n",
              " * @return {!Iterable<!Object>} Iterable of next steps.\n",
              " */\n",
              "function* uploadFilesStep(inputId, outputId) {\n",
              "  const inputElement = document.getElementById(inputId);\n",
              "  inputElement.disabled = false;\n",
              "\n",
              "  const outputElement = document.getElementById(outputId);\n",
              "  outputElement.innerHTML = '';\n",
              "\n",
              "  const pickedPromise = new Promise((resolve) => {\n",
              "    inputElement.addEventListener('change', (e) => {\n",
              "      resolve(e.target.files);\n",
              "    });\n",
              "  });\n",
              "\n",
              "  const cancel = document.createElement('button');\n",
              "  inputElement.parentElement.appendChild(cancel);\n",
              "  cancel.textContent = 'Cancel upload';\n",
              "  const cancelPromise = new Promise((resolve) => {\n",
              "    cancel.onclick = () => {\n",
              "      resolve(null);\n",
              "    };\n",
              "  });\n",
              "\n",
              "  // Wait for the user to pick the files.\n",
              "  const files = yield {\n",
              "    promise: Promise.race([pickedPromise, cancelPromise]),\n",
              "    response: {\n",
              "      action: 'starting',\n",
              "    }\n",
              "  };\n",
              "\n",
              "  cancel.remove();\n",
              "\n",
              "  // Disable the input element since further picks are not allowed.\n",
              "  inputElement.disabled = true;\n",
              "\n",
              "  if (!files) {\n",
              "    return {\n",
              "      response: {\n",
              "        action: 'complete',\n",
              "      }\n",
              "    };\n",
              "  }\n",
              "\n",
              "  for (const file of files) {\n",
              "    const li = document.createElement('li');\n",
              "    li.append(span(file.name, {fontWeight: 'bold'}));\n",
              "    li.append(span(\n",
              "        `(${file.type || 'n/a'}) - ${file.size} bytes, ` +\n",
              "        `last modified: ${\n",
              "            file.lastModifiedDate ? file.lastModifiedDate.toLocaleDateString() :\n",
              "                                    'n/a'} - `));\n",
              "    const percent = span('0% done');\n",
              "    li.appendChild(percent);\n",
              "\n",
              "    outputElement.appendChild(li);\n",
              "\n",
              "    const fileDataPromise = new Promise((resolve) => {\n",
              "      const reader = new FileReader();\n",
              "      reader.onload = (e) => {\n",
              "        resolve(e.target.result);\n",
              "      };\n",
              "      reader.readAsArrayBuffer(file);\n",
              "    });\n",
              "    // Wait for the data to be ready.\n",
              "    let fileData = yield {\n",
              "      promise: fileDataPromise,\n",
              "      response: {\n",
              "        action: 'continue',\n",
              "      }\n",
              "    };\n",
              "\n",
              "    // Use a chunked sending to avoid message size limits. See b/62115660.\n",
              "    let position = 0;\n",
              "    do {\n",
              "      const length = Math.min(fileData.byteLength - position, MAX_PAYLOAD_SIZE);\n",
              "      const chunk = new Uint8Array(fileData, position, length);\n",
              "      position += length;\n",
              "\n",
              "      const base64 = btoa(String.fromCharCode.apply(null, chunk));\n",
              "      yield {\n",
              "        response: {\n",
              "          action: 'append',\n",
              "          file: file.name,\n",
              "          data: base64,\n",
              "        },\n",
              "      };\n",
              "\n",
              "      let percentDone = fileData.byteLength === 0 ?\n",
              "          100 :\n",
              "          Math.round((position / fileData.byteLength) * 100);\n",
              "      percent.textContent = `${percentDone}% done`;\n",
              "\n",
              "    } while (position < fileData.byteLength);\n",
              "  }\n",
              "\n",
              "  // All done.\n",
              "  yield {\n",
              "    response: {\n",
              "      action: 'complete',\n",
              "    }\n",
              "  };\n",
              "}\n",
              "\n",
              "scope.google = scope.google || {};\n",
              "scope.google.colab = scope.google.colab || {};\n",
              "scope.google.colab._files = {\n",
              "  _uploadFiles,\n",
              "  _uploadFilesContinue,\n",
              "};\n",
              "})(self);\n",
              "</script> "
            ]
          },
          "metadata": {}
        },
        {
          "output_type": "stream",
          "name": "stdout",
          "text": [
            "Saving Henry_Hub_Natural_Gas_Spot_Price.csv to Henry_Hub_Natural_Gas_Spot_Price.csv\n"
          ]
        }
      ]
    },
    {
      "cell_type": "code",
      "execution_count": 3,
      "id": "5516d980",
      "metadata": {
        "colab": {
          "base_uri": "https://localhost:8080/",
          "height": 455
        },
        "id": "5516d980",
        "outputId": "2f043b76-c2fb-4425-d8ea-dca55d26b328"
      },
      "outputs": [
        {
          "output_type": "execute_result",
          "data": {
            "text/plain": [
              "            price\n",
              "Date             \n",
              "2022-12-12   6.73\n",
              "2022-12-09   4.98\n",
              "2022-12-08   4.79\n",
              "2022-12-07   4.49\n",
              "2022-12-06   4.58\n",
              "...           ...\n",
              "1997-01-13   4.00\n",
              "1997-01-10   3.92\n",
              "1997-01-09   3.61\n",
              "1997-01-08   3.80\n",
              "1997-01-07   3.82\n",
              "\n",
              "[6518 rows x 1 columns]"
            ],
            "text/html": [
              "\n",
              "  <div id=\"df-f05fca48-d3ad-4eb2-bd57-1d4227a95c55\">\n",
              "    <div class=\"colab-df-container\">\n",
              "      <div>\n",
              "<style scoped>\n",
              "    .dataframe tbody tr th:only-of-type {\n",
              "        vertical-align: middle;\n",
              "    }\n",
              "\n",
              "    .dataframe tbody tr th {\n",
              "        vertical-align: top;\n",
              "    }\n",
              "\n",
              "    .dataframe thead th {\n",
              "        text-align: right;\n",
              "    }\n",
              "</style>\n",
              "<table border=\"1\" class=\"dataframe\">\n",
              "  <thead>\n",
              "    <tr style=\"text-align: right;\">\n",
              "      <th></th>\n",
              "      <th>price</th>\n",
              "    </tr>\n",
              "    <tr>\n",
              "      <th>Date</th>\n",
              "      <th></th>\n",
              "    </tr>\n",
              "  </thead>\n",
              "  <tbody>\n",
              "    <tr>\n",
              "      <th>2022-12-12</th>\n",
              "      <td>6.73</td>\n",
              "    </tr>\n",
              "    <tr>\n",
              "      <th>2022-12-09</th>\n",
              "      <td>4.98</td>\n",
              "    </tr>\n",
              "    <tr>\n",
              "      <th>2022-12-08</th>\n",
              "      <td>4.79</td>\n",
              "    </tr>\n",
              "    <tr>\n",
              "      <th>2022-12-07</th>\n",
              "      <td>4.49</td>\n",
              "    </tr>\n",
              "    <tr>\n",
              "      <th>2022-12-06</th>\n",
              "      <td>4.58</td>\n",
              "    </tr>\n",
              "    <tr>\n",
              "      <th>...</th>\n",
              "      <td>...</td>\n",
              "    </tr>\n",
              "    <tr>\n",
              "      <th>1997-01-13</th>\n",
              "      <td>4.00</td>\n",
              "    </tr>\n",
              "    <tr>\n",
              "      <th>1997-01-10</th>\n",
              "      <td>3.92</td>\n",
              "    </tr>\n",
              "    <tr>\n",
              "      <th>1997-01-09</th>\n",
              "      <td>3.61</td>\n",
              "    </tr>\n",
              "    <tr>\n",
              "      <th>1997-01-08</th>\n",
              "      <td>3.80</td>\n",
              "    </tr>\n",
              "    <tr>\n",
              "      <th>1997-01-07</th>\n",
              "      <td>3.82</td>\n",
              "    </tr>\n",
              "  </tbody>\n",
              "</table>\n",
              "<p>6518 rows × 1 columns</p>\n",
              "</div>\n",
              "      <button class=\"colab-df-convert\" onclick=\"convertToInteractive('df-f05fca48-d3ad-4eb2-bd57-1d4227a95c55')\"\n",
              "              title=\"Convert this dataframe to an interactive table.\"\n",
              "              style=\"display:none;\">\n",
              "        \n",
              "  <svg xmlns=\"http://www.w3.org/2000/svg\" height=\"24px\"viewBox=\"0 0 24 24\"\n",
              "       width=\"24px\">\n",
              "    <path d=\"M0 0h24v24H0V0z\" fill=\"none\"/>\n",
              "    <path d=\"M18.56 5.44l.94 2.06.94-2.06 2.06-.94-2.06-.94-.94-2.06-.94 2.06-2.06.94zm-11 1L8.5 8.5l.94-2.06 2.06-.94-2.06-.94L8.5 2.5l-.94 2.06-2.06.94zm10 10l.94 2.06.94-2.06 2.06-.94-2.06-.94-.94-2.06-.94 2.06-2.06.94z\"/><path d=\"M17.41 7.96l-1.37-1.37c-.4-.4-.92-.59-1.43-.59-.52 0-1.04.2-1.43.59L10.3 9.45l-7.72 7.72c-.78.78-.78 2.05 0 2.83L4 21.41c.39.39.9.59 1.41.59.51 0 1.02-.2 1.41-.59l7.78-7.78 2.81-2.81c.8-.78.8-2.07 0-2.86zM5.41 20L4 18.59l7.72-7.72 1.47 1.35L5.41 20z\"/>\n",
              "  </svg>\n",
              "      </button>\n",
              "      \n",
              "  <style>\n",
              "    .colab-df-container {\n",
              "      display:flex;\n",
              "      flex-wrap:wrap;\n",
              "      gap: 12px;\n",
              "    }\n",
              "\n",
              "    .colab-df-convert {\n",
              "      background-color: #E8F0FE;\n",
              "      border: none;\n",
              "      border-radius: 50%;\n",
              "      cursor: pointer;\n",
              "      display: none;\n",
              "      fill: #1967D2;\n",
              "      height: 32px;\n",
              "      padding: 0 0 0 0;\n",
              "      width: 32px;\n",
              "    }\n",
              "\n",
              "    .colab-df-convert:hover {\n",
              "      background-color: #E2EBFA;\n",
              "      box-shadow: 0px 1px 2px rgba(60, 64, 67, 0.3), 0px 1px 3px 1px rgba(60, 64, 67, 0.15);\n",
              "      fill: #174EA6;\n",
              "    }\n",
              "\n",
              "    [theme=dark] .colab-df-convert {\n",
              "      background-color: #3B4455;\n",
              "      fill: #D2E3FC;\n",
              "    }\n",
              "\n",
              "    [theme=dark] .colab-df-convert:hover {\n",
              "      background-color: #434B5C;\n",
              "      box-shadow: 0px 1px 3px 1px rgba(0, 0, 0, 0.15);\n",
              "      filter: drop-shadow(0px 1px 2px rgba(0, 0, 0, 0.3));\n",
              "      fill: #FFFFFF;\n",
              "    }\n",
              "  </style>\n",
              "\n",
              "      <script>\n",
              "        const buttonEl =\n",
              "          document.querySelector('#df-f05fca48-d3ad-4eb2-bd57-1d4227a95c55 button.colab-df-convert');\n",
              "        buttonEl.style.display =\n",
              "          google.colab.kernel.accessAllowed ? 'block' : 'none';\n",
              "\n",
              "        async function convertToInteractive(key) {\n",
              "          const element = document.querySelector('#df-f05fca48-d3ad-4eb2-bd57-1d4227a95c55');\n",
              "          const dataTable =\n",
              "            await google.colab.kernel.invokeFunction('convertToInteractive',\n",
              "                                                     [key], {});\n",
              "          if (!dataTable) return;\n",
              "\n",
              "          const docLinkHtml = 'Like what you see? Visit the ' +\n",
              "            '<a target=\"_blank\" href=https://colab.research.google.com/notebooks/data_table.ipynb>data table notebook</a>'\n",
              "            + ' to learn more about interactive tables.';\n",
              "          element.innerHTML = '';\n",
              "          dataTable['output_type'] = 'display_data';\n",
              "          await google.colab.output.renderOutput(dataTable, element);\n",
              "          const docLink = document.createElement('div');\n",
              "          docLink.innerHTML = docLinkHtml;\n",
              "          element.appendChild(docLink);\n",
              "        }\n",
              "      </script>\n",
              "    </div>\n",
              "  </div>\n",
              "  "
            ]
          },
          "metadata": {},
          "execution_count": 3
        }
      ],
      "source": [
        "import io\n",
        "df = pd.read_csv(io.BytesIO(uploaded['Henry_Hub_Natural_Gas_Spot_Price.csv']))\n",
        "df['Date'] = pd.to_datetime(df['Date'])\n",
        "spot_price = df\n",
        "spot_price = spot_price.set_index(spot_price.columns[0])\n",
        "spot_price"
      ]
    },
    {
      "cell_type": "code",
      "execution_count": 4,
      "id": "915d1e67",
      "metadata": {
        "colab": {
          "base_uri": "https://localhost:8080/",
          "height": 352
        },
        "id": "915d1e67",
        "outputId": "7aaf2b7a-dc8f-4fae-a0a1-dc4363782b2a"
      },
      "outputs": [
        {
          "output_type": "stream",
          "name": "stdout",
          "text": [
            "Historical Spot price visualization:\n"
          ]
        },
        {
          "output_type": "display_data",
          "data": {
            "text/plain": [
              "<Figure size 1080x360 with 1 Axes>"
            ],
            "image/png": "[encoded data removed]"
          },
          "metadata": {
            "needs_background": "light"
          }
        }
      ],
      "source": [
        "print('Historical Spot price visualization:')\n",
        "spot_price.plot(figsize = (15,5), title = 'Henry Hub Spot Price (Daily frequency)')\n",
        "plt.xlabel ('Date_time')\n",
        "plt.ylabel ('Price ($/Mbtu)')\n",
        "plt.show()"
      ]
    },
    {
      "cell_type": "code",
      "execution_count": 5,
      "id": "61d68eb4",
      "metadata": {
        "colab": {
          "base_uri": "https://localhost:8080/"
        },
        "id": "61d68eb4",
        "outputId": "cd1d47aa-a293-4f52-c762-bb8628da1f83"
      },
      "outputs": [
        {
          "output_type": "stream",
          "name": "stdout",
          "text": [
            "Missing values: 1\n",
            "....Dropped Missing value row....\n",
            "\n",
            "Rechecking Missing values: price    0\n",
            "dtype: int64\n"
          ]
        }
      ],
      "source": [
        "print('Missing values:', spot_price.isnull().sum().sum()) \n",
        "\n",
        "\n",
        "# checking missing values\n",
        "spot_price = spot_price.dropna() \n",
        "\n",
        "\n",
        "# dropping missing valies\n",
        "print('....Dropped Missing value row....\\n')\n",
        "\n",
        "# checking missing values\n",
        "print('Rechecking Missing values:', spot_price.isnull().sum()) \n"
      ]
    },
    {
      "cell_type": "code",
      "execution_count": 6,
      "id": "e6cb5300",
      "metadata": {
        "colab": {
          "base_uri": "https://localhost:8080/",
          "height": 80
        },
        "id": "e6cb5300",
        "outputId": "9cf8cf1f-a5f0-4c6f-cf2b-4e383c63a340"
      },
      "outputs": [
        {
          "output_type": "execute_result",
          "data": {
            "text/plain": [
              "        count      mean       std   min   25%  50%   75%    max\n",
              "price  6517.0  4.236109  2.198055  1.05  2.69  3.6  5.33  23.86"
            ],
            "text/html": [
              "\n",
              "  <div id=\"df-1b5a6992-838d-4881-80c0-796274bdb4f3\">\n",
              "    <div class=\"colab-df-container\">\n",
              "      <div>\n",
              "<style scoped>\n",
              "    .dataframe tbody tr th:only-of-type {\n",
              "        vertical-align: middle;\n",
              "    }\n",
              "\n",
              "    .dataframe tbody tr th {\n",
              "        vertical-align: top;\n",
              "    }\n",
              "\n",
              "    .dataframe thead th {\n",
              "        text-align: right;\n",
              "    }\n",
              "</style>\n",
              "<table border=\"1\" class=\"dataframe\">\n",
              "  <thead>\n",
              "    <tr style=\"text-align: right;\">\n",
              "      <th></th>\n",
              "      <th>count</th>\n",
              "      <th>mean</th>\n",
              "      <th>std</th>\n",
              "      <th>min</th>\n",
              "      <th>25%</th>\n",
              "      <th>50%</th>\n",
              "      <th>75%</th>\n",
              "      <th>max</th>\n",
              "    </tr>\n",
              "  </thead>\n",
              "  <tbody>\n",
              "    <tr>\n",
              "      <th>price</th>\n",
              "      <td>6517.0</td>\n",
              "      <td>4.236109</td>\n",
              "      <td>2.198055</td>\n",
              "      <td>1.05</td>\n",
              "      <td>2.69</td>\n",
              "      <td>3.6</td>\n",
              "      <td>5.33</td>\n",
              "      <td>23.86</td>\n",
              "    </tr>\n",
              "  </tbody>\n",
              "</table>\n",
              "</div>\n",
              "      <button class=\"colab-df-convert\" onclick=\"convertToInteractive('df-1b5a6992-838d-4881-80c0-796274bdb4f3')\"\n",
              "              title=\"Convert this dataframe to an interactive table.\"\n",
              "              style=\"display:none;\">\n",
              "        \n",
              "  <svg xmlns=\"http://www.w3.org/2000/svg\" height=\"24px\"viewBox=\"0 0 24 24\"\n",
              "       width=\"24px\">\n",
              "    <path d=\"M0 0h24v24H0V0z\" fill=\"none\"/>\n",
              "    <path d=\"M18.56 5.44l.94 2.06.94-2.06 2.06-.94-2.06-.94-.94-2.06-.94 2.06-2.06.94zm-11 1L8.5 8.5l.94-2.06 2.06-.94-2.06-.94L8.5 2.5l-.94 2.06-2.06.94zm10 10l.94 2.06.94-2.06 2.06-.94-2.06-.94-.94-2.06-.94 2.06-2.06.94z\"/><path d=\"M17.41 7.96l-1.37-1.37c-.4-.4-.92-.59-1.43-.59-.52 0-1.04.2-1.43.59L10.3 9.45l-7.72 7.72c-.78.78-.78 2.05 0 2.83L4 21.41c.39.39.9.59 1.41.59.51 0 1.02-.2 1.41-.59l7.78-7.78 2.81-2.81c.8-.78.8-2.07 0-2.86zM5.41 20L4 18.59l7.72-7.72 1.47 1.35L5.41 20z\"/>\n",
              "  </svg>\n",
              "      </button>\n",
              "      \n",
              "  <style>\n",
              "    .colab-df-container {\n",
              "      display:flex;\n",
              "      flex-wrap:wrap;\n",
              "      gap: 12px;\n",
              "    }\n",
              "\n",
              "    .colab-df-convert {\n",
              "      background-color: #E8F0FE;\n",
              "      border: none;\n",
              "      border-radius: 50%;\n",
              "      cursor: pointer;\n",
              "      display: none;\n",
              "      fill: #1967D2;\n",
              "      height: 32px;\n",
              "      padding: 0 0 0 0;\n",
              "      width: 32px;\n",
              "    }\n",
              "\n",
              "    .colab-df-convert:hover {\n",
              "      background-color: #E2EBFA;\n",
              "      box-shadow: 0px 1px 2px rgba(60, 64, 67, 0.3), 0px 1px 3px 1px rgba(60, 64, 67, 0.15);\n",
              "      fill: #174EA6;\n",
              "    }\n",
              "\n",
              "    [theme=dark] .colab-df-convert {\n",
              "      background-color: #3B4455;\n",
              "      fill: #D2E3FC;\n",
              "    }\n",
              "\n",
              "    [theme=dark] .colab-df-convert:hover {\n",
              "      background-color: #434B5C;\n",
              "      box-shadow: 0px 1px 3px 1px rgba(0, 0, 0, 0.15);\n",
              "      filter: drop-shadow(0px 1px 2px rgba(0, 0, 0, 0.3));\n",
              "      fill: #FFFFFF;\n",
              "    }\n",
              "  </style>\n",
              "\n",
              "      <script>\n",
              "        const buttonEl =\n",
              "          document.querySelector('#df-1b5a6992-838d-4881-80c0-796274bdb4f3 button.colab-df-convert');\n",
              "        buttonEl.style.display =\n",
              "          google.colab.kernel.accessAllowed ? 'block' : 'none';\n",
              "\n",
              "        async function convertToInteractive(key) {\n",
              "          const element = document.querySelector('#df-1b5a6992-838d-4881-80c0-796274bdb4f3');\n",
              "          const dataTable =\n",
              "            await google.colab.kernel.invokeFunction('convertToInteractive',\n",
              "                                                     [key], {});\n",
              "          if (!dataTable) return;\n",
              "\n",
              "          const docLinkHtml = 'Like what you see? Visit the ' +\n",
              "            '<a target=\"_blank\" href=https://colab.research.google.com/notebooks/data_table.ipynb>data table notebook</a>'\n",
              "            + ' to learn more about interactive tables.';\n",
              "          element.innerHTML = '';\n",
              "          dataTable['output_type'] = 'display_data';\n",
              "          await google.colab.output.renderOutput(dataTable, element);\n",
              "          const docLink = document.createElement('div');\n",
              "          docLink.innerHTML = docLinkHtml;\n",
              "          element.appendChild(docLink);\n",
              "        }\n",
              "      </script>\n",
              "    </div>\n",
              "  </div>\n",
              "  "
            ]
          },
          "metadata": {},
          "execution_count": 6
        }
      ],
      "source": [
        "spot_price.describe().transpose()"
      ]
    },
    {
      "cell_type": "code",
      "execution_count": 7,
      "id": "d0cfa3bb",
      "metadata": {
        "colab": {
          "base_uri": "https://localhost:8080/",
          "height": 286
        },
        "id": "d0cfa3bb",
        "outputId": "556bdf31-4fa6-4729-c11f-c1c6975017f2"
      },
      "outputs": [
        {
          "output_type": "stream",
          "name": "stdout",
          "text": [
            "Box plot Visualization\n"
          ]
        },
        {
          "output_type": "display_data",
          "data": {
            "text/plain": [
              "<Figure size 720x288 with 1 Axes>"
            ],
            "image/png": "[encoded data removed]"
          },
          "metadata": {
            "needs_background": "light"
          }
        }
      ],
      "source": [
        "# Generate Boxplot\n",
        "print(\"Box plot Visualization\")\n",
        "spot_price.plot(kind = \"box\", figsize = (10, 4))\n",
        "plt.show()"
      ]
    },
    {
      "cell_type": "code",
      "execution_count": 8,
      "id": "fd941267",
      "metadata": {
        "colab": {
          "base_uri": "https://localhost:8080/",
          "height": 337
        },
        "id": "fd941267",
        "outputId": "bb378ec4-1b65-44e7-e463-d36b08100162"
      },
      "outputs": [
        {
          "output_type": "stream",
          "name": "stdout",
          "text": [
            "Histogram Visualization:\n"
          ]
        },
        {
          "output_type": "display_data",
          "data": {
            "text/plain": [
              "<Figure size 720x360 with 1 Axes>"
            ],
            "image/png": "[encoded data removed]"
          },
          "metadata": {
            "needs_background": "light"
          }
        }
      ],
      "source": [
        "# Generate Histogram\n",
        "print( \"Histogram Visualization:\")\n",
        "spot_price.plot( kind = \"hist\", edgecolor = \"black\", figsize = (10,5))\n",
        "plt.show()"
      ]
    },
    {
      "cell_type": "code",
      "execution_count": 9,
      "id": "a54d9852",
      "metadata": {
        "colab": {
          "base_uri": "https://localhost:8080/",
          "height": 350
        },
        "id": "a54d9852",
        "outputId": "85106bcd-d08f-4c8b-e91f-ae1873689933"
      },
      "outputs": [
        {
          "output_type": "display_data",
          "data": {
            "text/plain": [
              "<Figure size 576x360 with 1 Axes>"
            ],
            "image/png": "[encoded data removed]"
          },
          "metadata": {
            "needs_background": "light"
          }
        }
      ],
      "source": [
        "import seaborn as sns\n",
        "fig, ax1 = plt.subplots(ncols = 1, figsize = (8,5))\n",
        "ax1.set_title(\"Price Data Before Scalling\")\n",
        "sns.kdeplot(spot_price[\"price\"], ax = ax1 )\n",
        "plt.show()"
      ]
    },
    {
      "cell_type": "code",
      "execution_count": 10,
      "id": "6987d099",
      "metadata": {
        "colab": {
          "base_uri": "https://localhost:8080/"
        },
        "id": "6987d099",
        "outputId": "e41deb7e-68ea-4133-e58c-dc0b2b4aae5a"
      },
      "outputs": [
        {
          "output_type": "stream",
          "name": "stdout",
          "text": [
            "Train Shape: (6191, 1)\n",
            "Test shape: (326, 1)\n"
          ]
        }
      ],
      "source": [
        "train_size = int(len(spot_price) * 0.95)\n",
        "test_size = len(spot_price) - train_size\n",
        "train, test = spot_price.iloc[0:train_size], spot_price.iloc[train_size:len(spot_price)]\n",
        "print (\"Train Shape:\", train.shape)\n",
        "print(\"Test shape:\", test.shape)"
      ]
    },
    {
      "cell_type": "code",
      "execution_count": 11,
      "id": "4ee2e0c4",
      "metadata": {
        "colab": {
          "base_uri": "https://localhost:8080/"
        },
        "id": "4ee2e0c4",
        "outputId": "ca6b90e5-1223-4dea-b768-a8ce0c70f7f3"
      },
      "outputs": [
        {
          "output_type": "stream",
          "name": "stderr",
          "text": [
            "<ipython-input-11-2ec1c4785d42>:3: SettingWithCopyWarning: \n",
            "A value is trying to be set on a copy of a slice from a DataFrame.\n",
            "Try using .loc[row_indexer,col_indexer] = value instead\n",
            "\n",
            "See the caveats in the documentation: https://pandas.pydata.org/pandas-docs/stable/user_guide/indexing.html#returning-a-view-versus-a-copy\n",
            "  train[\"price\"] = robust.transform(train[[\"price\"]])\n",
            "<ipython-input-11-2ec1c4785d42>:4: SettingWithCopyWarning: \n",
            "A value is trying to be set on a copy of a slice from a DataFrame.\n",
            "Try using .loc[row_indexer,col_indexer] = value instead\n",
            "\n",
            "See the caveats in the documentation: https://pandas.pydata.org/pandas-docs/stable/user_guide/indexing.html#returning-a-view-versus-a-copy\n",
            "  test[\"price\"] = robust.transform(test[[\"price\"]])\n"
          ]
        }
      ],
      "source": [
        "# Data Standardization\n",
        "robust = RobustScaler(quantile_range = (25, 75)).fit(train[[\"price\"]])\n",
        "train[\"price\"] = robust.transform(train[[\"price\"]])\n",
        "test[\"price\"] = robust.transform(test[[\"price\"]])"
      ]
    },
    {
      "cell_type": "code",
      "execution_count": 12,
      "id": "81e702e7",
      "metadata": {
        "colab": {
          "base_uri": "https://localhost:8080/"
        },
        "id": "81e702e7",
        "outputId": "66d2edf9-ac75-404a-c368-6d265c5ea747"
      },
      "outputs": [
        {
          "output_type": "stream",
          "name": "stdout",
          "text": [
            "X_train shape: (6161, 30, 1)\n",
            "X_test shape: (296, 30, 1)\n"
          ]
        }
      ],
      "source": [
        "#helper function\n",
        "def create_dataset(X, y, time_steps=1):\n",
        "    a, b = [], []\n",
        "    for i in range(len(X) - time_steps):\n",
        "        v = X.iloc[i:(i + time_steps)]\n",
        "        a.append(v)\n",
        "        b.append(y.iloc[i + time_steps])\n",
        "    return np.array(a), np.array(b)\n",
        "\n",
        "    # Now we will create sequences with 30 days of historical Data\n",
        "n_steps = 30\n",
        "\n",
        "# reshape to 3D [n_samples, n_steps, n_features]\n",
        "X_train, y_train = create_dataset(train[[\"price\"]], train[\"price\"],n_steps)\n",
        "X_test, y_test = create_dataset(test[[\"price\"]], test['price'], n_steps)\n",
        "\n",
        "print (\"X_train shape:\", X_train.shape)\n",
        "print(\"X_test shape:\", X_test.shape)\n"
      ]
    },
    {
      "cell_type": "code",
      "execution_count": 13,
      "id": "c9e9e9ce",
      "metadata": {
        "colab": {
          "base_uri": "https://localhost:8080/"
        },
        "id": "c9e9e9ce",
        "outputId": "d709fbc9-6369-4d65-d0ec-81ce7a47636b"
      },
      "outputs": [
        {
          "output_type": "execute_result",
          "data": {
            "text/plain": [
              "<keras.layers.reshaping.repeat_vector.RepeatVector at 0x7fb44b901f70>"
            ]
          },
          "metadata": {},
          "execution_count": 13
        }
      ],
      "source": [
        "import tensorflow as tf\n",
        "from tensorflow import keras\n",
        "from tensorflow.keras import layers\n",
        "import math\n",
        "from sklearn.metrics import mean_squared_error\n",
        "from pandas import DataFrame\n",
        "tf.keras.layers.RepeatVector(1)\n"
      ]
    },
    {
      "cell_type": "code",
      "execution_count": 14,
      "id": "7db3268d",
      "metadata": {
        "colab": {
          "base_uri": "https://localhost:8080/"
        },
        "id": "7db3268d",
        "outputId": "1c584b4a-ff88-40ae-88d5-9332ad798c2d"
      },
      "outputs": [
        {
          "output_type": "stream",
          "name": "stdout",
          "text": [
            "Epoch 1/50\n",
            "174/174 [==============================] - 9s 32ms/step - loss: 0.2344 - val_loss: 0.1118\n",
            "Epoch 2/50\n",
            "174/174 [==============================] - 5s 31ms/step - loss: 0.1953 - val_loss: 0.0982\n",
            "Epoch 3/50\n",
            "174/174 [==============================] - 5s 28ms/step - loss: 0.1827 - val_loss: 0.1080\n",
            "Epoch 4/50\n",
            "174/174 [==============================] - 5s 31ms/step - loss: 0.1772 - val_loss: 0.1165\n",
            "Epoch 5/50\n",
            "174/174 [==============================] - 5s 28ms/step - loss: 0.1732 - val_loss: 0.1186\n",
            "Epoch 6/50\n",
            "174/174 [==============================] - 5s 29ms/step - loss: 0.1707 - val_loss: 0.1170\n",
            "Epoch 7/50\n",
            "174/174 [==============================] - 5s 29ms/step - loss: 0.1710 - val_loss: 0.1134\n",
            "Epoch 8/50\n",
            "174/174 [==============================] - 5s 28ms/step - loss: 0.1696 - val_loss: 0.1055\n",
            "Epoch 9/50\n",
            "174/174 [==============================] - 5s 31ms/step - loss: 0.1713 - val_loss: 0.0921\n",
            "Epoch 10/50\n",
            "174/174 [==============================] - 5s 28ms/step - loss: 0.1666 - val_loss: 0.0886\n",
            "Epoch 11/50\n",
            "174/174 [==============================] - 5s 31ms/step - loss: 0.1655 - val_loss: 0.0927\n",
            "Epoch 12/50\n",
            "174/174 [==============================] - 5s 28ms/step - loss: 0.1682 - val_loss: 0.0887\n",
            "Epoch 13/50\n",
            "174/174 [==============================] - 5s 30ms/step - loss: 0.1666 - val_loss: 0.0926\n",
            "Epoch 14/50\n",
            "174/174 [==============================] - 5s 29ms/step - loss: 0.1652 - val_loss: 0.0896\n",
            "Epoch 15/50\n",
            "174/174 [==============================] - 5s 29ms/step - loss: 0.1663 - val_loss: 0.0917\n",
            "Epoch 16/50\n",
            "174/174 [==============================] - 6s 32ms/step - loss: 0.1666 - val_loss: 0.0834\n",
            "Epoch 17/50\n",
            "174/174 [==============================] - 5s 28ms/step - loss: 0.1661 - val_loss: 0.0856\n",
            "Epoch 18/50\n",
            "174/174 [==============================] - 8s 44ms/step - loss: 0.1654 - val_loss: 0.0926\n",
            "Epoch 19/50\n",
            "174/174 [==============================] - 5s 28ms/step - loss: 0.1655 - val_loss: 0.0803\n",
            "Epoch 20/50\n",
            "174/174 [==============================] - 9s 51ms/step - loss: 0.1646 - val_loss: 0.0844\n",
            "Epoch 21/50\n",
            "174/174 [==============================] - 11s 63ms/step - loss: 0.1647 - val_loss: 0.0844\n",
            "Epoch 22/50\n",
            "174/174 [==============================] - 7s 42ms/step - loss: 0.1650 - val_loss: 0.0818\n",
            "Epoch 23/50\n",
            "174/174 [==============================] - 5s 28ms/step - loss: 0.1644 - val_loss: 0.0863\n",
            "Epoch 24/50\n",
            "174/174 [==============================] - 5s 27ms/step - loss: 0.1654 - val_loss: 0.0855\n",
            "Epoch 25/50\n",
            "174/174 [==============================] - 5s 31ms/step - loss: 0.1661 - val_loss: 0.0850\n",
            "Epoch 26/50\n",
            "174/174 [==============================] - 5s 28ms/step - loss: 0.1669 - val_loss: 0.0800\n",
            "Epoch 27/50\n",
            "174/174 [==============================] - 5s 31ms/step - loss: 0.1645 - val_loss: 0.0780\n",
            "Epoch 28/50\n",
            "174/174 [==============================] - 5s 28ms/step - loss: 0.1652 - val_loss: 0.0769\n",
            "Epoch 29/50\n",
            "174/174 [==============================] - 5s 31ms/step - loss: 0.1645 - val_loss: 0.0793\n",
            "Epoch 30/50\n",
            "174/174 [==============================] - 5s 28ms/step - loss: 0.1637 - val_loss: 0.0798\n",
            "Epoch 31/50\n",
            "174/174 [==============================] - 5s 28ms/step - loss: 0.1639 - val_loss: 0.0819\n",
            "Epoch 32/50\n",
            "174/174 [==============================] - 6s 32ms/step - loss: 0.1630 - val_loss: 0.0813\n",
            "Epoch 33/50\n",
            "174/174 [==============================] - 5s 28ms/step - loss: 0.1654 - val_loss: 0.0798\n",
            "Epoch 34/50\n",
            "174/174 [==============================] - 6s 32ms/step - loss: 0.1641 - val_loss: 0.0798\n",
            "Epoch 35/50\n",
            "174/174 [==============================] - 5s 28ms/step - loss: 0.1633 - val_loss: 0.0792\n",
            "Epoch 36/50\n",
            "174/174 [==============================] - 6s 32ms/step - loss: 0.1641 - val_loss: 0.0810\n",
            "Epoch 37/50\n",
            "174/174 [==============================] - 5s 31ms/step - loss: 0.1637 - val_loss: 0.0788\n",
            "Epoch 38/50\n",
            "174/174 [==============================] - 5s 29ms/step - loss: 0.1630 - val_loss: 0.0805\n",
            "Epoch 39/50\n",
            "174/174 [==============================] - 6s 36ms/step - loss: 0.1626 - val_loss: 0.0823\n",
            "Epoch 40/50\n",
            "174/174 [==============================] - 5s 29ms/step - loss: 0.1631 - val_loss: 0.0798\n",
            "Epoch 41/50\n",
            "174/174 [==============================] - 6s 33ms/step - loss: 0.1629 - val_loss: 0.0825\n",
            "Epoch 42/50\n",
            "174/174 [==============================] - 5s 30ms/step - loss: 0.1620 - val_loss: 0.0827\n",
            "Epoch 43/50\n",
            "174/174 [==============================] - 6s 34ms/step - loss: 0.1634 - val_loss: 0.0812\n",
            "Epoch 44/50\n",
            "174/174 [==============================] - 5s 29ms/step - loss: 0.1632 - val_loss: 0.0783\n",
            "Epoch 45/50\n",
            "174/174 [==============================] - 6s 32ms/step - loss: 0.1626 - val_loss: 0.0823\n",
            "Epoch 46/50\n",
            "174/174 [==============================] - 5s 29ms/step - loss: 0.1627 - val_loss: 0.0796\n",
            "Epoch 47/50\n",
            "174/174 [==============================] - 5s 31ms/step - loss: 0.1626 - val_loss: 0.0730\n",
            "Epoch 48/50\n",
            "174/174 [==============================] - 5s 30ms/step - loss: 0.1626 - val_loss: 0.0794\n",
            "Epoch 49/50\n",
            "174/174 [==============================] - 5s 29ms/step - loss: 0.1630 - val_loss: 0.0731\n",
            "Epoch 50/50\n",
            "174/174 [==============================] - 6s 32ms/step - loss: 0.1625 - val_loss: 0.0767\n"
          ]
        }
      ],
      "source": [
        "units = 64\n",
        "dropout = 0.20\n",
        "optimizer = \"adam\"\n",
        "loss = 'mae'\n",
        "epochs = 50\n",
        "\n",
        "model = keras.Sequential()\n",
        "model.add(keras.layers.LSTM(units = units, input_shape = (X_train.shape[1], X_train.shape[2])))\n",
        "model.add(keras.layers.Dropout(rate=dropout))\n",
        "model.add(tf.keras.layers.RepeatVector(n=X_train.shape[1]))\n",
        "model.add(keras.layers.LSTM(units = units, return_sequences = True))\n",
        "model.add(keras.layers.Dropout(rate=dropout))\n",
        "model.add(keras.layers.TimeDistributed(keras.layers.Dense(units=X_train.shape[2])))\n",
        "model.compile(loss = loss, optimizer = optimizer)\n",
        "history = model.fit(X_train, y_train, epochs = epochs, batch_size = 32, validation_split = 0.1, shuffle = False)"
      ]
    },
    {
      "cell_type": "code",
      "execution_count": 15,
      "id": "980878c3",
      "metadata": {
        "colab": {
          "base_uri": "https://localhost:8080/",
          "height": 350
        },
        "id": "980878c3",
        "outputId": "799a9272-f0fa-4e1e-862b-5166e598b29f"
      },
      "outputs": [
        {
          "output_type": "display_data",
          "data": {
            "text/plain": [
              "<Figure size 720x360 with 1 Axes>"
            ],
            "image/png": "[encoded data removed]"
          },
          "metadata": {
            "needs_background": "light"
          }
        }
      ],
      "source": [
        "#history for loss\n",
        "\n",
        "plt.figure(figsize = (10, 5))\n",
        "plt.plot(history.history['loss'])\n",
        "plt.plot(history.history['val_loss'])\n",
        "plt.title('model loss')\n",
        "plt.ylabel('loss')\n",
        "plt.xlabel('epoch')\n",
        "plt.legend(['train', 'test'], loc = 'upper left')\n",
        "plt.show()"
      ]
    },
    {
      "cell_type": "code",
      "execution_count": 16,
      "id": "6af19064",
      "metadata": {
        "colab": {
          "base_uri": "https://localhost:8080/",
          "height": 454
        },
        "id": "6af19064",
        "outputId": "10c65039-4066-45b8-c656-bfb7a3f872b7"
      },
      "outputs": [
        {
          "output_type": "stream",
          "name": "stdout",
          "text": [
            "193/193 [==============================] - 3s 9ms/step\n",
            "Training loss: 0.1702889824696554\n",
            "\n"
          ]
        },
        {
          "output_type": "display_data",
          "data": {
            "text/plain": [
              "<Figure size 720x360 with 0 Axes>"
            ]
          },
          "metadata": {}
        },
        {
          "output_type": "display_data",
          "data": {
            "text/plain": [
              "<Figure size 402.25x360 with 1 Axes>"
            ],
            "image/png": "[encoded data removed]"
          },
          "metadata": {
            "needs_background": "light"
          }
        }
      ],
      "source": [
        "train_pred = model.predict(X_train)\n",
        "train_loss = (np.mean(np.abs(train_pred - X_train), axis = 1))\n",
        "avg_loss = train_loss.mean()\n",
        "print(\"Training loss:\", avg_loss), print()\n",
        "\n",
        "plt.figure(figsize = (10, 5))\n",
        "sns.displot(train_loss, bins = 50, kde = True)\n",
        "plt.title('Distribution of training loss')\n",
        "plt.show()"
      ]
    },
    {
      "cell_type": "code",
      "source": [
        "# Get train MAE loss.\n",
        "train_pred = model.predict(X_train)\n",
        "train_loss = np.mean(np.abs(train_pred - X_train), axis=1)\n",
        "\n",
        "plt.figure(figsize = (10,5))\n",
        "plt.hist(train_loss, bins=50)\n",
        "plt.xlabel(\"Train MAE loss\")\n",
        "plt.ylabel(\"No of samples\")\n",
        "plt.show()"
      ],
      "metadata": {
        "colab": {
          "base_uri": "https://localhost:8080/",
          "height": 351
        },
        "id": "7x-K9va_fU8h",
        "outputId": "515c89ad-6e2e-42b0-8616-f871e940e483"
      },
      "id": "7x-K9va_fU8h",
      "execution_count": 17,
      "outputs": [
        {
          "output_type": "stream",
          "name": "stdout",
          "text": [
            "193/193 [==============================] - 2s 10ms/step\n"
          ]
        },
        {
          "output_type": "display_data",
          "data": {
            "text/plain": [
              "<Figure size 720x360 with 1 Axes>"
            ],
            "image/png": "[encoded data removed]"
          },
          "metadata": {
            "needs_background": "light"
          }
        }
      ]
    },
    {
      "cell_type": "code",
      "source": [
        "# Get reconstruction loss threshold.\n",
        "threshold = np.max(train_loss)\n",
        "print(\"Reconstruction error threshold: \", threshold)"
      ],
      "metadata": {
        "colab": {
          "base_uri": "https://localhost:8080/"
        },
        "id": "P9y4o4tIfg32",
        "outputId": "6f567bfc-59e4-4a55-95c8-d6e281e542ef"
      },
      "id": "P9y4o4tIfg32",
      "execution_count": 18,
      "outputs": [
        {
          "output_type": "stream",
          "name": "stdout",
          "text": [
            "Reconstruction error threshold:  2.194930380163572\n"
          ]
        }
      ]
    },
    {
      "cell_type": "code",
      "source": [
        "\"\"\"### Compare recontruction\n",
        "Let's see how our model has recontructed the first sample. \n",
        "\"\"\"\n",
        "\n",
        "# Checking how the first sequence is learnt\n",
        "plt.figure(figsize = (10,5))\n",
        "plt.plot(X_train[0])\n",
        "plt.plot(train_pred[0])\n",
        "plt.show()\n"
      ],
      "metadata": {
        "colab": {
          "base_uri": "https://localhost:8080/",
          "height": 320
        },
        "id": "dY1bl6o3fmzW",
        "outputId": "fb7a0af0-615d-4751-837e-a386ecc34b4d"
      },
      "id": "dY1bl6o3fmzW",
      "execution_count": 19,
      "outputs": [
        {
          "output_type": "display_data",
          "data": {
            "text/plain": [
              "<Figure size 720x360 with 1 Axes>"
            ],
            "image/png": "[encoded data removed]"
          },
          "metadata": {
            "needs_background": "light"
          }
        }
      ]
    },
    {
      "cell_type": "code",
      "execution_count": 20,
      "id": "f4257986",
      "metadata": {
        "scrolled": true,
        "colab": {
          "base_uri": "https://localhost:8080/"
        },
        "id": "f4257986",
        "outputId": "3ff46529-b4a7-46a3-dad6-3f2bd368ec65"
      },
      "outputs": [
        {
          "output_type": "stream",
          "name": "stdout",
          "text": [
            "10/10 [==============================] - 0s 11ms/step\n",
            "Predict shape: (296, 30, 1)\n",
            "\n"
          ]
        }
      ],
      "source": [
        "import math\n",
        "from sklearn.metrics import mean_squared_error\n",
        "from pandas import DataFrame\n",
        "\n",
        "# MAE on the test data:\n",
        "y_pred = model.predict(X_test)\n",
        "print('Predict shape:', y_pred.shape); print();\n",
        "mae = np.mean(np.abs(y_pred - X_test), axis=1)"
      ]
    },
    {
      "cell_type": "code",
      "execution_count": 21,
      "id": "8308ebbf",
      "metadata": {
        "colab": {
          "base_uri": "https://localhost:8080/"
        },
        "id": "8308ebbf",
        "outputId": "14eb43ad-4b06-41cf-fad8-ea99636452f3"
      },
      "outputs": [
        {
          "output_type": "stream",
          "name": "stdout",
          "text": [
            "Prediction: (8880, 1)\n",
            "\n",
            "Test data shape: (296, 30, 1)\n",
            "\n"
          ]
        }
      ],
      "source": [
        "# reshaping prediction\n",
        "pred = y_pred.reshape((y_pred.shape[0] * y_pred.shape[1]), y_pred.shape[2])\n",
        "print('Prediction:', pred.shape); print();\n",
        "print('Test data shape:', X_test.shape); print();\n"
      ]
    },
    {
      "cell_type": "code",
      "execution_count": 22,
      "id": "d5754134",
      "metadata": {
        "colab": {
          "base_uri": "https://localhost:8080/"
        },
        "id": "d5754134",
        "outputId": "9de0045b-7e06-4883-8d01-9d41b796e6a2"
      },
      "outputs": [
        {
          "output_type": "stream",
          "name": "stdout",
          "text": [
            "Test data: (8880, 1)\n",
            "\n",
            "Error: (8880, 1)\n",
            "\n"
          ]
        },
        {
          "output_type": "execute_result",
          "data": {
            "text/plain": [
              "(None, None)"
            ]
          },
          "metadata": {},
          "execution_count": 22
        }
      ],
      "source": [
        "# reshaping test data\n",
        "X_test = X_test.reshape((X_test.shape[0] * X_test.shape[1]), X_test.shape[2])\n",
        "print('Test data:', X_test.shape); print();\n",
        "\n",
        "#Error Computation (To be solve)\n",
        "errors = X_test - pred\n",
        "print(\"Error:\", errors.shape), print()\n"
      ]
    },
    {
      "cell_type": "code",
      "execution_count": 23,
      "id": "0ce2c58c",
      "metadata": {
        "colab": {
          "base_uri": "https://localhost:8080/"
        },
        "id": "0ce2c58c",
        "outputId": "26388c59-a0e9-4625-b83d-188ecb019d87"
      },
      "outputs": [
        {
          "output_type": "stream",
          "name": "stdout",
          "text": [
            "Test RMSE: 0.128\n"
          ]
        }
      ],
      "source": [
        "#rmse on Test Data\n",
        "RMSE = math.sqrt(mean_squared_error(X_test, pred))\n",
        "print('Test RMSE: %.3f' % RMSE);"
      ]
    },
    {
      "cell_type": "code",
      "execution_count": 24,
      "id": "8fa66c1d",
      "metadata": {
        "colab": {
          "base_uri": "https://localhost:8080/"
        },
        "id": "8fa66c1d",
        "outputId": "7621cc2d-3403-4b6d-c793-071a3752d39a"
      },
      "outputs": [
        {
          "output_type": "stream",
          "name": "stdout",
          "text": [
            "Score: (8880,)\n",
            "Cutoff value: 7104\n",
            "Threshold value: 0.13102627894200303\n"
          ]
        }
      ],
      "source": [
        "# Threshould Computation \n",
        "dist = np.linalg.norm(X_test - pred, axis=1)\n",
        "scores = dist.copy()\n",
        "print('Score:', scores.shape)\n",
        "scores.sort()\n",
        "cut_off = int(0.80 * len(scores))\n",
        "print('Cutoff value:', cut_off)\n",
        "threshold = scores[cut_off]\n",
        "print('Threshold value:', threshold) \n"
      ]
    },
    {
      "cell_type": "code",
      "execution_count": 25,
      "id": "1895fb69",
      "metadata": {
        "colab": {
          "base_uri": "https://localhost:8080/",
          "height": 336
        },
        "id": "1895fb69",
        "outputId": "a88f312d-e866-49fa-d175-35270819fcc0"
      },
      "outputs": [
        {
          "output_type": "display_data",
          "data": {
            "text/plain": [
              "<Figure size 720x360 with 1 Axes>"
            ],
            "image/png": "[encoded data removed]"
          },
          "metadata": {
            "needs_background": "light"
          }
        }
      ],
      "source": [
        "plt.figure(figsize= (10,5))\n",
        "plt.plot(X_test, color = 'green')\n",
        "plt.plot(pred, color = 'red')\n",
        "plt.title(\"Test & Predicted data\")\n",
        "plt.show()"
      ]
    },
    {
      "cell_type": "code",
      "execution_count": 26,
      "id": "a55e5070",
      "metadata": {
        "colab": {
          "base_uri": "https://localhost:8080/",
          "height": 352
        },
        "id": "a55e5070",
        "outputId": "1b37c4be-7d9e-4a03-da31-c41cb0abe595"
      },
      "outputs": [
        {
          "output_type": "display_data",
          "data": {
            "text/plain": [
              "<Figure size 720x360 with 1 Axes>"
            ],
            "image/png": "[encoded data removed]"
          },
          "metadata": {
            "needs_background": "light"
          }
        }
      ],
      "source": [
        "score = DataFrame(index=test[n_steps:].index)\n",
        "score['loss'] = mae\n",
        "score['threshold'] = threshold\n",
        "score['anomaly'] = score['loss'] > score['threshold']\n",
        "score['price'] = test[n_steps:].price\n",
        "\n",
        "plt.figure(figsize = (10,5))\n",
        "plt.plot(score.index, score['loss'], color = 'green', label='loss')\n",
        "plt.plot(score.index, score['threshold'], color = 'r', label='threshold')\n",
        "plt.xticks(rotation=90)\n",
        "plt.legend();"
      ]
    },
    {
      "cell_type": "code",
      "execution_count": 27,
      "id": "6dbc37ab",
      "metadata": {
        "colab": {
          "base_uri": "https://localhost:8080/",
          "height": 394
        },
        "id": "6dbc37ab",
        "outputId": "40d37c07-8701-4f83-ac09-14d2b3047500"
      },
      "outputs": [
        {
          "output_type": "execute_result",
          "data": {
            "text/plain": [
              "                loss  threshold  anomaly  inverse_price\n",
              "Date                                                   \n",
              "1997-01-20  0.192713   0.131026     True           3.26\n",
              "1997-01-17  0.223576   0.131026     True           3.91\n",
              "1997-01-16  0.364670   0.131026     True           4.71\n",
              "1997-01-15  0.552491   0.131026     True           4.34\n",
              "1997-01-14  0.509403   0.131026     True           4.01\n",
              "1997-01-13  0.440657   0.131026     True           4.00\n",
              "1997-01-10  0.416010   0.131026     True           3.92\n",
              "1997-01-09  0.386219   0.131026     True           3.61\n",
              "1997-01-08  0.325969   0.131026     True           3.80\n",
              "1997-01-07  0.323382   0.131026     True           3.82"
            ],
            "text/html": [
              "\n",
              "  <div id=\"df-72590dc4-f069-4722-bdf2-15eec03117b3\">\n",
              "    <div class=\"colab-df-container\">\n",
              "      <div>\n",
              "<style scoped>\n",
              "    .dataframe tbody tr th:only-of-type {\n",
              "        vertical-align: middle;\n",
              "    }\n",
              "\n",
              "    .dataframe tbody tr th {\n",
              "        vertical-align: top;\n",
              "    }\n",
              "\n",
              "    .dataframe thead th {\n",
              "        text-align: right;\n",
              "    }\n",
              "</style>\n",
              "<table border=\"1\" class=\"dataframe\">\n",
              "  <thead>\n",
              "    <tr style=\"text-align: right;\">\n",
              "      <th></th>\n",
              "      <th>loss</th>\n",
              "      <th>threshold</th>\n",
              "      <th>anomaly</th>\n",
              "      <th>inverse_price</th>\n",
              "    </tr>\n",
              "    <tr>\n",
              "      <th>Date</th>\n",
              "      <th></th>\n",
              "      <th></th>\n",
              "      <th></th>\n",
              "      <th></th>\n",
              "    </tr>\n",
              "  </thead>\n",
              "  <tbody>\n",
              "    <tr>\n",
              "      <th>1997-01-20</th>\n",
              "      <td>0.192713</td>\n",
              "      <td>0.131026</td>\n",
              "      <td>True</td>\n",
              "      <td>3.26</td>\n",
              "    </tr>\n",
              "    <tr>\n",
              "      <th>1997-01-17</th>\n",
              "      <td>0.223576</td>\n",
              "      <td>0.131026</td>\n",
              "      <td>True</td>\n",
              "      <td>3.91</td>\n",
              "    </tr>\n",
              "    <tr>\n",
              "      <th>1997-01-16</th>\n",
              "      <td>0.364670</td>\n",
              "      <td>0.131026</td>\n",
              "      <td>True</td>\n",
              "      <td>4.71</td>\n",
              "    </tr>\n",
              "    <tr>\n",
              "      <th>1997-01-15</th>\n",
              "      <td>0.552491</td>\n",
              "      <td>0.131026</td>\n",
              "      <td>True</td>\n",
              "      <td>4.34</td>\n",
              "    </tr>\n",
              "    <tr>\n",
              "      <th>1997-01-14</th>\n",
              "      <td>0.509403</td>\n",
              "      <td>0.131026</td>\n",
              "      <td>True</td>\n",
              "      <td>4.01</td>\n",
              "    </tr>\n",
              "    <tr>\n",
              "      <th>1997-01-13</th>\n",
              "      <td>0.440657</td>\n",
              "      <td>0.131026</td>\n",
              "      <td>True</td>\n",
              "      <td>4.00</td>\n",
              "    </tr>\n",
              "    <tr>\n",
              "      <th>1997-01-10</th>\n",
              "      <td>0.416010</td>\n",
              "      <td>0.131026</td>\n",
              "      <td>True</td>\n",
              "      <td>3.92</td>\n",
              "    </tr>\n",
              "    <tr>\n",
              "      <th>1997-01-09</th>\n",
              "      <td>0.386219</td>\n",
              "      <td>0.131026</td>\n",
              "      <td>True</td>\n",
              "      <td>3.61</td>\n",
              "    </tr>\n",
              "    <tr>\n",
              "      <th>1997-01-08</th>\n",
              "      <td>0.325969</td>\n",
              "      <td>0.131026</td>\n",
              "      <td>True</td>\n",
              "      <td>3.80</td>\n",
              "    </tr>\n",
              "    <tr>\n",
              "      <th>1997-01-07</th>\n",
              "      <td>0.323382</td>\n",
              "      <td>0.131026</td>\n",
              "      <td>True</td>\n",
              "      <td>3.82</td>\n",
              "    </tr>\n",
              "  </tbody>\n",
              "</table>\n",
              "</div>\n",
              "      <button class=\"colab-df-convert\" onclick=\"convertToInteractive('df-72590dc4-f069-4722-bdf2-15eec03117b3')\"\n",
              "              title=\"Convert this dataframe to an interactive table.\"\n",
              "              style=\"display:none;\">\n",
              "        \n",
              "  <svg xmlns=\"http://www.w3.org/2000/svg\" height=\"24px\"viewBox=\"0 0 24 24\"\n",
              "       width=\"24px\">\n",
              "    <path d=\"M0 0h24v24H0V0z\" fill=\"none\"/>\n",
              "    <path d=\"M18.56 5.44l.94 2.06.94-2.06 2.06-.94-2.06-.94-.94-2.06-.94 2.06-2.06.94zm-11 1L8.5 8.5l.94-2.06 2.06-.94-2.06-.94L8.5 2.5l-.94 2.06-2.06.94zm10 10l.94 2.06.94-2.06 2.06-.94-2.06-.94-.94-2.06-.94 2.06-2.06.94z\"/><path d=\"M17.41 7.96l-1.37-1.37c-.4-.4-.92-.59-1.43-.59-.52 0-1.04.2-1.43.59L10.3 9.45l-7.72 7.72c-.78.78-.78 2.05 0 2.83L4 21.41c.39.39.9.59 1.41.59.51 0 1.02-.2 1.41-.59l7.78-7.78 2.81-2.81c.8-.78.8-2.07 0-2.86zM5.41 20L4 18.59l7.72-7.72 1.47 1.35L5.41 20z\"/>\n",
              "  </svg>\n",
              "      </button>\n",
              "      \n",
              "  <style>\n",
              "    .colab-df-container {\n",
              "      display:flex;\n",
              "      flex-wrap:wrap;\n",
              "      gap: 12px;\n",
              "    }\n",
              "\n",
              "    .colab-df-convert {\n",
              "      background-color: #E8F0FE;\n",
              "      border: none;\n",
              "      border-radius: 50%;\n",
              "      cursor: pointer;\n",
              "      display: none;\n",
              "      fill: #1967D2;\n",
              "      height: 32px;\n",
              "      padding: 0 0 0 0;\n",
              "      width: 32px;\n",
              "    }\n",
              "\n",
              "    .colab-df-convert:hover {\n",
              "      background-color: #E2EBFA;\n",
              "      box-shadow: 0px 1px 2px rgba(60, 64, 67, 0.3), 0px 1px 3px 1px rgba(60, 64, 67, 0.15);\n",
              "      fill: #174EA6;\n",
              "    }\n",
              "\n",
              "    [theme=dark] .colab-df-convert {\n",
              "      background-color: #3B4455;\n",
              "      fill: #D2E3FC;\n",
              "    }\n",
              "\n",
              "    [theme=dark] .colab-df-convert:hover {\n",
              "      background-color: #434B5C;\n",
              "      box-shadow: 0px 1px 3px 1px rgba(0, 0, 0, 0.15);\n",
              "      filter: drop-shadow(0px 1px 2px rgba(0, 0, 0, 0.3));\n",
              "      fill: #FFFFFF;\n",
              "    }\n",
              "  </style>\n",
              "\n",
              "      <script>\n",
              "        const buttonEl =\n",
              "          document.querySelector('#df-72590dc4-f069-4722-bdf2-15eec03117b3 button.colab-df-convert');\n",
              "        buttonEl.style.display =\n",
              "          google.colab.kernel.accessAllowed ? 'block' : 'none';\n",
              "\n",
              "        async function convertToInteractive(key) {\n",
              "          const element = document.querySelector('#df-72590dc4-f069-4722-bdf2-15eec03117b3');\n",
              "          const dataTable =\n",
              "            await google.colab.kernel.invokeFunction('convertToInteractive',\n",
              "                                                     [key], {});\n",
              "          if (!dataTable) return;\n",
              "\n",
              "          const docLinkHtml = 'Like what you see? Visit the ' +\n",
              "            '<a target=\"_blank\" href=https://colab.research.google.com/notebooks/data_table.ipynb>data table notebook</a>'\n",
              "            + ' to learn more about interactive tables.';\n",
              "          element.innerHTML = '';\n",
              "          dataTable['output_type'] = 'display_data';\n",
              "          await google.colab.output.renderOutput(dataTable, element);\n",
              "          const docLink = document.createElement('div');\n",
              "          docLink.innerHTML = docLinkHtml;\n",
              "          element.appendChild(docLink);\n",
              "        }\n",
              "      </script>\n",
              "    </div>\n",
              "  </div>\n",
              "  "
            ]
          },
          "metadata": {},
          "execution_count": 27
        }
      ],
      "source": [
        "#Anomalies Report Format\n",
        "anomalies = score[score['anomaly'] == True]\n",
        "x = DataFrame(anomalies.price)\n",
        "x = DataFrame(robust.inverse_transform(x))\n",
        "x.index = anomalies.index\n",
        "x.rename(columns = {0: 'inverse_price'}, inplace = True)\n",
        "anomalies = anomalies.join(x, how = 'left')\n",
        "anomalies = anomalies.drop(columns=['price'], axis=1)\n",
        "anomalies.tail(10) \n"
      ]
    },
    {
      "cell_type": "code",
      "source": [
        "test[n_steps:].index\n",
        "\n",
        "test_inv = DataFrame(robust.inverse_transform(test[n_steps:]))\n",
        "test_inv.index = test[n_steps:].index\n",
        "test_inv.rename(columns = {0: 'price'}, inplace = True)\n",
        "test_inv\n",
        "\n",
        "plt.figure(figsize = (10,5))\n",
        "plt.plot(test_inv.index, test_inv.price, color = 'gray', label='spot price');\n",
        "sns.scatterplot(anomalies.index, anomalies['inverse_price'], color=sns.color_palette()[3], s=55, label='anomaly')\n",
        "plt.xticks(rotation=90)\n",
        "plt.legend(loc='upper center');"
      ],
      "metadata": {
        "colab": {
          "base_uri": "https://localhost:8080/",
          "height": 421
        },
        "id": "N2uDLnz6i-Mi",
        "outputId": "9a785017-7e9d-4aee-a8d7-6df03074b162"
      },
      "id": "N2uDLnz6i-Mi",
      "execution_count": 28,
      "outputs": [
        {
          "output_type": "stream",
          "name": "stderr",
          "text": [
            "/usr/local/lib/python3.8/dist-packages/seaborn/_decorators.py:36: FutureWarning: Pass the following variables as keyword args: x, y. From version 0.12, the only valid positional argument will be `data`, and passing other arguments without an explicit keyword will result in an error or misinterpretation.\n",
            "  warnings.warn(\n"
          ]
        },
        {
          "output_type": "display_data",
          "data": {
            "text/plain": [
              "<Figure size 720x360 with 1 Axes>"
            ],
            "image/png": "[encoded data removed]"
          },
          "metadata": {
            "needs_background": "light"
          }
        }
      ]
    },
    {
      "cell_type": "code",
      "execution_count": 29,
      "id": "53ebc4c2",
      "metadata": {
        "colab": {
          "base_uri": "https://localhost:8080/",
          "height": 455
        },
        "id": "53ebc4c2",
        "outputId": "67d573f3-6877-4e13-bfbe-90f067fd28f0"
      },
      "outputs": [
        {
          "output_type": "execute_result",
          "data": {
            "text/plain": [
              "            price\n",
              "Date             \n",
              "1998-03-11   2.25\n",
              "1998-03-10   2.25\n",
              "1998-03-09   2.17\n",
              "1998-03-06   2.10\n",
              "1998-03-05   2.12\n",
              "...           ...\n",
              "1997-01-13   4.00\n",
              "1997-01-10   3.92\n",
              "1997-01-09   3.61\n",
              "1997-01-08   3.80\n",
              "1997-01-07   3.82\n",
              "\n",
              "[296 rows x 1 columns]"
            ],
            "text/html": [
              "\n",
              "  <div id=\"df-918ce2c4-6051-4a75-9ad5-0320510d9b03\">\n",
              "    <div class=\"colab-df-container\">\n",
              "      <div>\n",
              "<style scoped>\n",
              "    .dataframe tbody tr th:only-of-type {\n",
              "        vertical-align: middle;\n",
              "    }\n",
              "\n",
              "    .dataframe tbody tr th {\n",
              "        vertical-align: top;\n",
              "    }\n",
              "\n",
              "    .dataframe thead th {\n",
              "        text-align: right;\n",
              "    }\n",
              "</style>\n",
              "<table border=\"1\" class=\"dataframe\">\n",
              "  <thead>\n",
              "    <tr style=\"text-align: right;\">\n",
              "      <th></th>\n",
              "      <th>price</th>\n",
              "    </tr>\n",
              "    <tr>\n",
              "      <th>Date</th>\n",
              "      <th></th>\n",
              "    </tr>\n",
              "  </thead>\n",
              "  <tbody>\n",
              "    <tr>\n",
              "      <th>1998-03-11</th>\n",
              "      <td>2.25</td>\n",
              "    </tr>\n",
              "    <tr>\n",
              "      <th>1998-03-10</th>\n",
              "      <td>2.25</td>\n",
              "    </tr>\n",
              "    <tr>\n",
              "      <th>1998-03-09</th>\n",
              "      <td>2.17</td>\n",
              "    </tr>\n",
              "    <tr>\n",
              "      <th>1998-03-06</th>\n",
              "      <td>2.10</td>\n",
              "    </tr>\n",
              "    <tr>\n",
              "      <th>1998-03-05</th>\n",
              "      <td>2.12</td>\n",
              "    </tr>\n",
              "    <tr>\n",
              "      <th>...</th>\n",
              "      <td>...</td>\n",
              "    </tr>\n",
              "    <tr>\n",
              "      <th>1997-01-13</th>\n",
              "      <td>4.00</td>\n",
              "    </tr>\n",
              "    <tr>\n",
              "      <th>1997-01-10</th>\n",
              "      <td>3.92</td>\n",
              "    </tr>\n",
              "    <tr>\n",
              "      <th>1997-01-09</th>\n",
              "      <td>3.61</td>\n",
              "    </tr>\n",
              "    <tr>\n",
              "      <th>1997-01-08</th>\n",
              "      <td>3.80</td>\n",
              "    </tr>\n",
              "    <tr>\n",
              "      <th>1997-01-07</th>\n",
              "      <td>3.82</td>\n",
              "    </tr>\n",
              "  </tbody>\n",
              "</table>\n",
              "<p>296 rows × 1 columns</p>\n",
              "</div>\n",
              "      <button class=\"colab-df-convert\" onclick=\"convertToInteractive('df-918ce2c4-6051-4a75-9ad5-0320510d9b03')\"\n",
              "              title=\"Convert this dataframe to an interactive table.\"\n",
              "              style=\"display:none;\">\n",
              "        \n",
              "  <svg xmlns=\"http://www.w3.org/2000/svg\" height=\"24px\"viewBox=\"0 0 24 24\"\n",
              "       width=\"24px\">\n",
              "    <path d=\"M0 0h24v24H0V0z\" fill=\"none\"/>\n",
              "    <path d=\"M18.56 5.44l.94 2.06.94-2.06 2.06-.94-2.06-.94-.94-2.06-.94 2.06-2.06.94zm-11 1L8.5 8.5l.94-2.06 2.06-.94-2.06-.94L8.5 2.5l-.94 2.06-2.06.94zm10 10l.94 2.06.94-2.06 2.06-.94-2.06-.94-.94-2.06-.94 2.06-2.06.94z\"/><path d=\"M17.41 7.96l-1.37-1.37c-.4-.4-.92-.59-1.43-.59-.52 0-1.04.2-1.43.59L10.3 9.45l-7.72 7.72c-.78.78-.78 2.05 0 2.83L4 21.41c.39.39.9.59 1.41.59.51 0 1.02-.2 1.41-.59l7.78-7.78 2.81-2.81c.8-.78.8-2.07 0-2.86zM5.41 20L4 18.59l7.72-7.72 1.47 1.35L5.41 20z\"/>\n",
              "  </svg>\n",
              "      </button>\n",
              "      \n",
              "  <style>\n",
              "    .colab-df-container {\n",
              "      display:flex;\n",
              "      flex-wrap:wrap;\n",
              "      gap: 12px;\n",
              "    }\n",
              "\n",
              "    .colab-df-convert {\n",
              "      background-color: #E8F0FE;\n",
              "      border: none;\n",
              "      border-radius: 50%;\n",
              "      cursor: pointer;\n",
              "      display: none;\n",
              "      fill: #1967D2;\n",
              "      height: 32px;\n",
              "      padding: 0 0 0 0;\n",
              "      width: 32px;\n",
              "    }\n",
              "\n",
              "    .colab-df-convert:hover {\n",
              "      background-color: #E2EBFA;\n",
              "      box-shadow: 0px 1px 2px rgba(60, 64, 67, 0.3), 0px 1px 3px 1px rgba(60, 64, 67, 0.15);\n",
              "      fill: #174EA6;\n",
              "    }\n",
              "\n",
              "    [theme=dark] .colab-df-convert {\n",
              "      background-color: #3B4455;\n",
              "      fill: #D2E3FC;\n",
              "    }\n",
              "\n",
              "    [theme=dark] .colab-df-convert:hover {\n",
              "      background-color: #434B5C;\n",
              "      box-shadow: 0px 1px 3px 1px rgba(0, 0, 0, 0.15);\n",
              "      filter: drop-shadow(0px 1px 2px rgba(0, 0, 0, 0.3));\n",
              "      fill: #FFFFFF;\n",
              "    }\n",
              "  </style>\n",
              "\n",
              "      <script>\n",
              "        const buttonEl =\n",
              "          document.querySelector('#df-918ce2c4-6051-4a75-9ad5-0320510d9b03 button.colab-df-convert');\n",
              "        buttonEl.style.display =\n",
              "          google.colab.kernel.accessAllowed ? 'block' : 'none';\n",
              "\n",
              "        async function convertToInteractive(key) {\n",
              "          const element = document.querySelector('#df-918ce2c4-6051-4a75-9ad5-0320510d9b03');\n",
              "          const dataTable =\n",
              "            await google.colab.kernel.invokeFunction('convertToInteractive',\n",
              "                                                     [key], {});\n",
              "          if (!dataTable) return;\n",
              "\n",
              "          const docLinkHtml = 'Like what you see? Visit the ' +\n",
              "            '<a target=\"_blank\" href=https://colab.research.google.com/notebooks/data_table.ipynb>data table notebook</a>'\n",
              "            + ' to learn more about interactive tables.';\n",
              "          element.innerHTML = '';\n",
              "          dataTable['output_type'] = 'display_data';\n",
              "          await google.colab.output.renderOutput(dataTable, element);\n",
              "          const docLink = document.createElement('div');\n",
              "          docLink.innerHTML = docLinkHtml;\n",
              "          element.appendChild(docLink);\n",
              "        }\n",
              "      </script>\n",
              "    </div>\n",
              "  </div>\n",
              "  "
            ]
          },
          "metadata": {},
          "execution_count": 29
        }
      ],
      "source": [
        "#Inverse Test Data:\n",
        "test_inv = DataFrame(robust.inverse_transform(test[n_steps:]))\n",
        "test_inv.index = test[n_steps:].index\n",
        "test_inv.rename(columns = {0: 'price'}, inplace = True)\n",
        "test_inv "
      ]
    },
    {
      "cell_type": "code",
      "execution_count": 30,
      "id": "52f0987c",
      "metadata": {
        "colab": {
          "base_uri": "https://localhost:8080/",
          "height": 438
        },
        "id": "52f0987c",
        "outputId": "a03f65a5-d19c-40b1-ce34-687f3fe07818"
      },
      "outputs": [
        {
          "output_type": "stream",
          "name": "stderr",
          "text": [
            "/usr/local/lib/python3.8/dist-packages/seaborn/_decorators.py:36: FutureWarning: Pass the following variables as keyword args: x, y. From version 0.12, the only valid positional argument will be `data`, and passing other arguments without an explicit keyword will result in an error or misinterpretation.\n",
            "  warnings.warn(\n"
          ]
        },
        {
          "output_type": "execute_result",
          "data": {
            "text/plain": [
              "<matplotlib.legend.Legend at 0x7fb3dacf4f70>"
            ]
          },
          "metadata": {},
          "execution_count": 30
        },
        {
          "output_type": "display_data",
          "data": {
            "text/plain": [
              "<Figure size 720x360 with 1 Axes>"
            ],
            "image/png": "[encoded data removed]"
          },
          "metadata": {
            "needs_background": "light"
          }
        }
      ],
      "source": [
        "#Anomalies found in testing Data:\n",
        "plt.figure(figsize = (10,5))\n",
        "plt.plot(test_inv.index, test_inv.price, color = 'gray', label='spot price')\n",
        "sns.scatterplot(anomalies.index, anomalies['inverse_price'], color='red', s=55, label='anomaly')\n",
        "plt.xticks(rotation=90)\n",
        "plt.legend(loc='upper center') \n",
        "\n"
      ]
    },
    {
      "cell_type": "code",
      "execution_count": 30,
      "id": "563a2f88",
      "metadata": {
        "id": "563a2f88"
      },
      "outputs": [],
      "source": []
    }
  ],
  "metadata": {
    "kernelspec": {
      "display_name": "Python 3",
      "language": "python",
      "name": "python3"
    },
    "language_info": {
      "codemirror_mode": {
        "name": "ipython",
        "version": 3
      },
      "file_extension": ".py",
      "mimetype": "text/x-python",
      "name": "python",
      "nbconvert_exporter": "python",
      "pygments_lexer": "ipython3",
      "version": "3.8.8"
    },
    "colab": {
      "provenance": []
    }
  },
  "nbformat": 4,
  "nbformat_minor": 5
}